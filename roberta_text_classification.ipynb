{
 "cells": [
  {
   "cell_type": "code",
   "execution_count": 1,
   "metadata": {
    "_cell_guid": "b1076dfc-b9ad-4769-8c92-a6c4dae69d19",
    "_uuid": "8f2839f25d086af736a60e9eeb907d3b93b6e0e5",
    "execution": {
     "iopub.execute_input": "2023-10-24T13:17:24.081404Z",
     "iopub.status.busy": "2023-10-24T13:17:24.080570Z",
     "iopub.status.idle": "2023-10-24T13:17:24.086114Z",
     "shell.execute_reply": "2023-10-24T13:17:24.085144Z",
     "shell.execute_reply.started": "2023-10-24T13:17:24.081372Z"
    }
   },
   "outputs": [],
   "source": [
    "# !pip install transformers==4.30.2\n",
    "# !pip install datasets==2.12.0"
   ]
  },
  {
   "cell_type": "code",
   "execution_count": null,
   "metadata": {},
   "outputs": [],
   "source": [
    "from datasets import load_dataset, Dataset\n",
    "import pandas as pd\n",
    "import numpy as np\n",
    "import string\n",
    "from unidecode import unidecode\n",
    "import tensorflow as tf \n",
    "from sklearn.utils import class_weight\n",
    "from tensorflow.keras.utils import to_categorical\n",
    "from sklearn.model_selection import train_test_split\n",
    "from sklearn.preprocessing import LabelEncoder\n",
    "import cloudpickle"
   ]
  },
  {
   "cell_type": "code",
   "execution_count": 2,
   "metadata": {
    "execution": {
     "iopub.execute_input": "2023-10-24T15:09:35.800994Z",
     "iopub.status.busy": "2023-10-24T15:09:35.800313Z",
     "iopub.status.idle": "2023-10-24T15:09:35.820133Z",
     "shell.execute_reply": "2023-10-24T15:09:35.819059Z",
     "shell.execute_reply.started": "2023-10-24T15:09:35.800961Z"
    }
   },
   "outputs": [],
   "source": [
    "class TextPreprocessor:\n",
    "    def __init__(self, remove_punct: bool = True, remove_digits: bool = True,\n",
    "                 remove_stop_words: bool = True,\n",
    "                 remove_short_words: bool = True, minlen: int = 1, maxlen: int = 1, top_p: float = None,\n",
    "                 bottom_p: float = None):\n",
    "        self.remove_punct = remove_punct\n",
    "        self.remove_digits = remove_digits\n",
    "        self.remove_stop_words = remove_stop_words\n",
    "        self.remove_short_words = remove_short_words\n",
    "        self.minlen = minlen\n",
    "        self.maxlen = maxlen\n",
    "        self.top_p = top_p\n",
    "        self.bottom_p = bottom_p\n",
    "        self.words_to_remove = []\n",
    "        self.stop_words = ['i', 'me', 'my', 'myself', 'we', 'our', 'ours', 'ourselves', 'you',\n",
    "                           'your', 'yours', 'yourself', 'yourselves', 'he', 'him', 'his', 'himself',\n",
    "                           'she', 'her', 'hers', 'herself', 'it', 'its', 'itself', 'they', 'them',\n",
    "                           'their', 'theirs', 'themselves', 'what', 'which', 'who', 'whom', 'this', 'that',\n",
    "                           'these', 'those', 'am', 'is', 'are', 'was', 'were', 'be', 'been', 'being', 'have', 'has',\n",
    "                           'had', 'having', 'do', 'does', 'did', 'doing', 'a', 'an', 'the', 'and', 'if', 'or',\n",
    "                           'because', 'as', 'until', 'while', 'of', 'at', 'by', 'for', 'with', 'about',\n",
    "                           'into', 'through', 'during', 'before', 'after', 'to', 'from',\n",
    "                           'in', 'out', 'on', 'off', 'further', 'then', 'once',\n",
    "                           'here', 'there', 'when', 'where', 'why', 'how', 'all', 'any', 'both', 'each',\n",
    "                           'other', 'such', 'only', 'own', 'same', 'so', 'than',\n",
    "                           'too', 'can', 'will', 'just', 'should',\n",
    "                           'now']\n",
    "\n",
    "        \n",
    "\n",
    "    @staticmethod\n",
    "    def __remove_double_whitespaces(string: str):\n",
    "        return \" \".join(string.split())\n",
    "    \n",
    "\n",
    "    def __remove_punct(self, string_series: pd.Series):\n",
    "        \"\"\"\n",
    "       Removes punctuations from the input string.\n",
    "       :param string_series: pd.Series, input string series\n",
    "       :return: pd.Series, cleaned string series\n",
    "       \"\"\"\n",
    "        clean_string_series = string_series.copy()\n",
    "        puncts = [r'\\n', r'\\r', r'\\t']\n",
    "        puncts.extend(list(string.punctuation))\n",
    "        for i in puncts:\n",
    "            clean_string_series = clean_string_series.str.replace(pat=i, repl=\" \", regex=False).copy()\n",
    "        return clean_string_series.map(self.__remove_double_whitespaces)\n",
    "\n",
    "    def __remove_digits(self, string_series: pd.Series):\n",
    "        \"\"\"\n",
    "       Removes digits from the input string.\n",
    "       :param string_series: pd.Series, input string series\n",
    "       :return: pd.Series, cleaned string series\n",
    "       \"\"\"\n",
    "        clean_string_series = string_series.str.replace(pat=r'\\d', repl=\" \", regex=True).copy()\n",
    "        return clean_string_series.map(self.__remove_double_whitespaces)\n",
    " \n",
    "\n",
    "    def __remove_stop_words(self, string_series: pd.Series):\n",
    "        \"\"\"\n",
    "       Removes stop words from the input string.\n",
    "       :param string_series: pd.Series, input string series\n",
    "       :return: pd.Series, cleaned string series\n",
    "       \"\"\"\n",
    "        def str_remove_stop_words(string: str):\n",
    "            stops = self.stop_words\n",
    "            return \" \".join([token for token in string.split() if token not in stops])\n",
    "\n",
    "        return string_series.map(str_remove_stop_words)\n",
    "\n",
    "    \n",
    "\n",
    "    def preprocess(self, string_series: pd.Series, dataset: str = \"train\"):\n",
    "        \"\"\"\n",
    "        Entry point.\n",
    "        :param string_series: pd.Series, input string series\n",
    "        :param dataset: str, \"train\" for training set, \"tesrt\" for val/dev/test set.\n",
    "        :return: pd.Series, cleaned string series\n",
    "        \"\"\"\n",
    "        string_series = string_series.str.lower()\n",
    "        if self.remove_punct:\n",
    "            string_series = self.__remove_punct(string_series=string_series)\n",
    "        if self.remove_digits:\n",
    "            string_series = self.__remove_digits(string_series=string_series)\n",
    "        if self.remove_stop_words:\n",
    "            string_series = self.__remove_stop_words(string_series=string_series)\n",
    "        \n",
    "\n",
    "        string_series = string_series.str.strip()\n",
    "        string_series.replace(to_replace=\"\", value=\"this is an empty message\", inplace=True)\n",
    "\n",
    "        return string_series"
   ]
  },
  {
   "cell_type": "code",
   "execution_count": 3,
   "metadata": {
    "execution": {
     "iopub.execute_input": "2023-10-24T15:09:37.515226Z",
     "iopub.status.busy": "2023-10-24T15:09:37.514870Z",
     "iopub.status.idle": "2023-10-24T15:09:39.581729Z",
     "shell.execute_reply": "2023-10-24T15:09:39.580892Z",
     "shell.execute_reply.started": "2023-10-24T15:09:37.515198Z"
    }
   },
   "outputs": [],
   "source": [
    "# https://www.kaggle.com/datasets/bigbuddha47/text-classiciation?select=arxiv100.csv\n",
    "data = pd.read_csv(\"arxiv100.csv\")"
   ]
  },
  {
   "cell_type": "code",
   "execution_count": 4,
   "metadata": {
    "execution": {
     "iopub.execute_input": "2023-10-24T15:09:39.583540Z",
     "iopub.status.busy": "2023-10-24T15:09:39.583235Z",
     "iopub.status.idle": "2023-10-24T15:09:39.606647Z",
     "shell.execute_reply": "2023-10-24T15:09:39.605696Z",
     "shell.execute_reply.started": "2023-10-24T15:09:39.583505Z"
    }
   },
   "outputs": [
    {
     "data": {
      "text/html": [
       "<div>\n",
       "<style scoped>\n",
       "    .dataframe tbody tr th:only-of-type {\n",
       "        vertical-align: middle;\n",
       "    }\n",
       "\n",
       "    .dataframe tbody tr th {\n",
       "        vertical-align: top;\n",
       "    }\n",
       "\n",
       "    .dataframe thead th {\n",
       "        text-align: right;\n",
       "    }\n",
       "</style>\n",
       "<table border=\"1\" class=\"dataframe\">\n",
       "  <thead>\n",
       "    <tr style=\"text-align: right;\">\n",
       "      <th></th>\n",
       "      <th>title</th>\n",
       "      <th>abstract</th>\n",
       "      <th>label</th>\n",
       "    </tr>\n",
       "  </thead>\n",
       "  <tbody>\n",
       "    <tr>\n",
       "      <th>0</th>\n",
       "      <td>The Pre-He White Dwarfs in Eclipsing Binaries....</td>\n",
       "      <td>We report the first $BV$ light curves and hi...</td>\n",
       "      <td>astro-ph</td>\n",
       "    </tr>\n",
       "    <tr>\n",
       "      <th>1</th>\n",
       "      <td>A Possible Origin of kHZ QPOs in Low-Mass X-ra...</td>\n",
       "      <td>A possible origin of kHz QPOs in low-mass X-...</td>\n",
       "      <td>astro-ph</td>\n",
       "    </tr>\n",
       "    <tr>\n",
       "      <th>2</th>\n",
       "      <td>The effects of driving time scales on heating ...</td>\n",
       "      <td>Context. The relative importance of AC and D...</td>\n",
       "      <td>astro-ph</td>\n",
       "    </tr>\n",
       "    <tr>\n",
       "      <th>3</th>\n",
       "      <td>A new hard X-ray selected sample of extreme hi...</td>\n",
       "      <td>Extreme high-energy peaked BL Lac objects (E...</td>\n",
       "      <td>astro-ph</td>\n",
       "    </tr>\n",
       "    <tr>\n",
       "      <th>4</th>\n",
       "      <td>The baryon cycle of Seven Dwarfs with superbub...</td>\n",
       "      <td>We present results from a high-resolution, c...</td>\n",
       "      <td>astro-ph</td>\n",
       "    </tr>\n",
       "    <tr>\n",
       "      <th>...</th>\n",
       "      <td>...</td>\n",
       "      <td>...</td>\n",
       "      <td>...</td>\n",
       "    </tr>\n",
       "    <tr>\n",
       "      <th>99995</th>\n",
       "      <td>Semiparametric estimation for space-time max-s...</td>\n",
       "      <td>Max-stable processes have been expanded to q...</td>\n",
       "      <td>stat</td>\n",
       "    </tr>\n",
       "    <tr>\n",
       "      <th>99996</th>\n",
       "      <td>A spatial causal analysis of wildland fire-con...</td>\n",
       "      <td>Wildland fire smoke contains hazardous level...</td>\n",
       "      <td>stat</td>\n",
       "    </tr>\n",
       "    <tr>\n",
       "      <th>99997</th>\n",
       "      <td>Neural Conditional Event Time Models</td>\n",
       "      <td>Event time models predict occurrence times o...</td>\n",
       "      <td>stat</td>\n",
       "    </tr>\n",
       "    <tr>\n",
       "      <th>99998</th>\n",
       "      <td>Efficient Estimation of COM-Poisson Regression...</td>\n",
       "      <td>The Conway-Maxwell-Poisson (CMP) or COM-Pois...</td>\n",
       "      <td>stat</td>\n",
       "    </tr>\n",
       "    <tr>\n",
       "      <th>99999</th>\n",
       "      <td>algcomparison: Comparing the Performance of Gr...</td>\n",
       "      <td>In this report we describe a tool for compar...</td>\n",
       "      <td>stat</td>\n",
       "    </tr>\n",
       "  </tbody>\n",
       "</table>\n",
       "<p>100000 rows × 3 columns</p>\n",
       "</div>"
      ],
      "text/plain": [
       "                                                   title  \\\n",
       "0      The Pre-He White Dwarfs in Eclipsing Binaries....   \n",
       "1      A Possible Origin of kHZ QPOs in Low-Mass X-ra...   \n",
       "2      The effects of driving time scales on heating ...   \n",
       "3      A new hard X-ray selected sample of extreme hi...   \n",
       "4      The baryon cycle of Seven Dwarfs with superbub...   \n",
       "...                                                  ...   \n",
       "99995  Semiparametric estimation for space-time max-s...   \n",
       "99996  A spatial causal analysis of wildland fire-con...   \n",
       "99997               Neural Conditional Event Time Models   \n",
       "99998  Efficient Estimation of COM-Poisson Regression...   \n",
       "99999  algcomparison: Comparing the Performance of Gr...   \n",
       "\n",
       "                                                abstract     label  \n",
       "0        We report the first $BV$ light curves and hi...  astro-ph  \n",
       "1        A possible origin of kHz QPOs in low-mass X-...  astro-ph  \n",
       "2        Context. The relative importance of AC and D...  astro-ph  \n",
       "3        Extreme high-energy peaked BL Lac objects (E...  astro-ph  \n",
       "4        We present results from a high-resolution, c...  astro-ph  \n",
       "...                                                  ...       ...  \n",
       "99995    Max-stable processes have been expanded to q...      stat  \n",
       "99996    Wildland fire smoke contains hazardous level...      stat  \n",
       "99997    Event time models predict occurrence times o...      stat  \n",
       "99998    The Conway-Maxwell-Poisson (CMP) or COM-Pois...      stat  \n",
       "99999    In this report we describe a tool for compar...      stat  \n",
       "\n",
       "[100000 rows x 3 columns]"
      ]
     },
     "execution_count": 4,
     "metadata": {},
     "output_type": "execute_result"
    }
   ],
   "source": [
    "data"
   ]
  },
  {
   "cell_type": "code",
   "execution_count": 5,
   "metadata": {
    "execution": {
     "iopub.execute_input": "2023-10-24T15:09:39.607877Z",
     "iopub.status.busy": "2023-10-24T15:09:39.607604Z",
     "iopub.status.idle": "2023-10-24T15:09:39.759457Z",
     "shell.execute_reply": "2023-10-24T15:09:39.758641Z",
     "shell.execute_reply.started": "2023-10-24T15:09:39.607855Z"
    }
   },
   "outputs": [],
   "source": [
    "data ['text'] = data['title'] + \" \" + data['abstract']\n",
    "data.rename(columns={'label': 'category'}, inplace=True)\n",
    "data = data[['text', 'category']].copy()"
   ]
  },
  {
   "cell_type": "code",
   "execution_count": 6,
   "metadata": {
    "execution": {
     "iopub.execute_input": "2023-10-24T15:09:39.858532Z",
     "iopub.status.busy": "2023-10-24T15:09:39.857878Z",
     "iopub.status.idle": "2023-10-24T15:09:39.869798Z",
     "shell.execute_reply": "2023-10-24T15:09:39.868786Z",
     "shell.execute_reply.started": "2023-10-24T15:09:39.858502Z"
    }
   },
   "outputs": [
    {
     "data": {
      "text/html": [
       "<div>\n",
       "<style scoped>\n",
       "    .dataframe tbody tr th:only-of-type {\n",
       "        vertical-align: middle;\n",
       "    }\n",
       "\n",
       "    .dataframe tbody tr th {\n",
       "        vertical-align: top;\n",
       "    }\n",
       "\n",
       "    .dataframe thead th {\n",
       "        text-align: right;\n",
       "    }\n",
       "</style>\n",
       "<table border=\"1\" class=\"dataframe\">\n",
       "  <thead>\n",
       "    <tr style=\"text-align: right;\">\n",
       "      <th></th>\n",
       "      <th>text</th>\n",
       "      <th>category</th>\n",
       "    </tr>\n",
       "  </thead>\n",
       "  <tbody>\n",
       "    <tr>\n",
       "      <th>0</th>\n",
       "      <td>The Pre-He White Dwarfs in Eclipsing Binaries....</td>\n",
       "      <td>astro-ph</td>\n",
       "    </tr>\n",
       "    <tr>\n",
       "      <th>1</th>\n",
       "      <td>A Possible Origin of kHZ QPOs in Low-Mass X-ra...</td>\n",
       "      <td>astro-ph</td>\n",
       "    </tr>\n",
       "    <tr>\n",
       "      <th>2</th>\n",
       "      <td>The effects of driving time scales on heating ...</td>\n",
       "      <td>astro-ph</td>\n",
       "    </tr>\n",
       "    <tr>\n",
       "      <th>3</th>\n",
       "      <td>A new hard X-ray selected sample of extreme hi...</td>\n",
       "      <td>astro-ph</td>\n",
       "    </tr>\n",
       "    <tr>\n",
       "      <th>4</th>\n",
       "      <td>The baryon cycle of Seven Dwarfs with superbub...</td>\n",
       "      <td>astro-ph</td>\n",
       "    </tr>\n",
       "    <tr>\n",
       "      <th>...</th>\n",
       "      <td>...</td>\n",
       "      <td>...</td>\n",
       "    </tr>\n",
       "    <tr>\n",
       "      <th>99995</th>\n",
       "      <td>Semiparametric estimation for space-time max-s...</td>\n",
       "      <td>stat</td>\n",
       "    </tr>\n",
       "    <tr>\n",
       "      <th>99996</th>\n",
       "      <td>A spatial causal analysis of wildland fire-con...</td>\n",
       "      <td>stat</td>\n",
       "    </tr>\n",
       "    <tr>\n",
       "      <th>99997</th>\n",
       "      <td>Neural Conditional Event Time Models   Event t...</td>\n",
       "      <td>stat</td>\n",
       "    </tr>\n",
       "    <tr>\n",
       "      <th>99998</th>\n",
       "      <td>Efficient Estimation of COM-Poisson Regression...</td>\n",
       "      <td>stat</td>\n",
       "    </tr>\n",
       "    <tr>\n",
       "      <th>99999</th>\n",
       "      <td>algcomparison: Comparing the Performance of Gr...</td>\n",
       "      <td>stat</td>\n",
       "    </tr>\n",
       "  </tbody>\n",
       "</table>\n",
       "<p>100000 rows × 2 columns</p>\n",
       "</div>"
      ],
      "text/plain": [
       "                                                    text  category\n",
       "0      The Pre-He White Dwarfs in Eclipsing Binaries....  astro-ph\n",
       "1      A Possible Origin of kHZ QPOs in Low-Mass X-ra...  astro-ph\n",
       "2      The effects of driving time scales on heating ...  astro-ph\n",
       "3      A new hard X-ray selected sample of extreme hi...  astro-ph\n",
       "4      The baryon cycle of Seven Dwarfs with superbub...  astro-ph\n",
       "...                                                  ...       ...\n",
       "99995  Semiparametric estimation for space-time max-s...      stat\n",
       "99996  A spatial causal analysis of wildland fire-con...      stat\n",
       "99997  Neural Conditional Event Time Models   Event t...      stat\n",
       "99998  Efficient Estimation of COM-Poisson Regression...      stat\n",
       "99999  algcomparison: Comparing the Performance of Gr...      stat\n",
       "\n",
       "[100000 rows x 2 columns]"
      ]
     },
     "execution_count": 6,
     "metadata": {},
     "output_type": "execute_result"
    }
   ],
   "source": [
    "data"
   ]
  },
  {
   "cell_type": "code",
   "execution_count": 7,
   "metadata": {
    "execution": {
     "iopub.execute_input": "2023-10-24T15:09:40.752660Z",
     "iopub.status.busy": "2023-10-24T15:09:40.752288Z",
     "iopub.status.idle": "2023-10-24T15:09:40.758844Z",
     "shell.execute_reply": "2023-10-24T15:09:40.757941Z",
     "shell.execute_reply.started": "2023-10-24T15:09:40.752610Z"
    }
   },
   "outputs": [
    {
     "data": {
      "text/plain": [
       "\"The Pre-He White Dwarfs in Eclipsing Binaries. I. WASP 0131+28   We report the first $BV$ light curves and high-resolution spectra of the\\npost-mass transfer binary star WASP 0131+28 to study the absolute properties of\\nextremely low-mass white dwarfs. From the observed spectra, the double-lined\\nradial velocities were derived, and the effective temperature and rotational\\nvelocity of the brighter, more massive primary were found to be $T_{\\\\rm eff,1}\\n= 10,000 \\\\pm 200$ K and $v_1\\\\sin$$i$ = 55 $\\\\pm$ 10 km s$^{-1}$, respectively.\\nThe combined analysis of the {\\\\it TESS} archive data and ours yielded the\\naccurate fundamental parameters of the program target. The masses were derived\\nto about 1.0 \\\\% accuracy and the radii to 0.6 \\\\%, or better. The secondary\\ncomponent's parameters of $M_2 = 0.200 \\\\pm 0.002$ M$_\\\\odot$, $R_2 = 0.528 \\\\pm\\n0.003$ R$_\\\\odot$, $T_{\\\\rm eff,2}$ = 11,186 $\\\\pm$ 235 K, and $L_2 = 3.9 \\\\pm 0.3$\\nL$_\\\\odot$ are in excellent agreement with the evolutionary sequence for a\\nhelium-core white dwarf of mass 0.203 M$_\\\\odot$, and indicates that this star\\nis halfway through the constant luminosity phase. The results presented in this\\narticle demonstrate that WASP 0131+28 is an EL CVn eclipsing binary in a thin\\ndisk, which is formed from the stable Roche-lobe overflow channel and composed\\nof a main-sequence dwarf with a spectral type A0 and a pre-He white dwarf.\\n\""
      ]
     },
     "execution_count": 7,
     "metadata": {},
     "output_type": "execute_result"
    }
   ],
   "source": [
    "data['text'][0]"
   ]
  },
  {
   "cell_type": "code",
   "execution_count": 8,
   "metadata": {
    "execution": {
     "iopub.execute_input": "2023-10-24T15:09:41.882653Z",
     "iopub.status.busy": "2023-10-24T15:09:41.882282Z",
     "iopub.status.idle": "2023-10-24T15:10:14.213110Z",
     "shell.execute_reply": "2023-10-24T15:10:14.212048Z",
     "shell.execute_reply.started": "2023-10-24T15:09:41.882613Z"
    }
   },
   "outputs": [],
   "source": [
    "tp = TextPreprocessor()\n",
    "data['text'] = tp.preprocess(data['text'])"
   ]
  },
  {
   "cell_type": "code",
   "execution_count": 9,
   "metadata": {
    "execution": {
     "iopub.execute_input": "2023-10-24T15:10:14.215101Z",
     "iopub.status.busy": "2023-10-24T15:10:14.214809Z",
     "iopub.status.idle": "2023-10-24T15:10:14.221536Z",
     "shell.execute_reply": "2023-10-24T15:10:14.220513Z",
     "shell.execute_reply.started": "2023-10-24T15:10:14.215076Z"
    }
   },
   "outputs": [
    {
     "data": {
      "text/plain": [
       "'pre white dwarfs eclipsing binaries wasp report first bv light curves high resolution spectra post mass transfer binary star wasp study absolute properties extremely low mass white dwarfs observed spectra double lined radial velocities derived effective temperature rotational velocity brighter more massive primary found t m eff pm k v sin pm km s respectively combined analysis tess archive data yielded accurate fundamental parameters program target masses derived accuracy radii better secondary component s parameters m pm m odot r pm r odot t m eff pm k l pm l odot excellent agreement evolutionary sequence helium core white dwarf mass m odot indicates star halfway constant luminosity phase results presented article demonstrate wasp el cvn eclipsing binary thin disk formed stable roche lobe overflow channel composed main sequence dwarf spectral type pre white dwarf'"
      ]
     },
     "execution_count": 9,
     "metadata": {},
     "output_type": "execute_result"
    }
   ],
   "source": [
    "data['text'][0]"
   ]
  },
  {
   "cell_type": "code",
   "execution_count": 10,
   "metadata": {
    "execution": {
     "iopub.execute_input": "2023-10-24T15:10:14.223356Z",
     "iopub.status.busy": "2023-10-24T15:10:14.222992Z",
     "iopub.status.idle": "2023-10-24T15:10:14.250607Z",
     "shell.execute_reply": "2023-10-24T15:10:14.249563Z",
     "shell.execute_reply.started": "2023-10-24T15:10:14.223322Z"
    }
   },
   "outputs": [
    {
     "data": {
      "text/plain": [
       "category\n",
       "astro-ph    10000\n",
       "cond-mat    10000\n",
       "cs          10000\n",
       "eess        10000\n",
       "hep-ph      10000\n",
       "hep-th      10000\n",
       "math        10000\n",
       "physics     10000\n",
       "quant-ph    10000\n",
       "stat        10000\n",
       "Name: count, dtype: int64"
      ]
     },
     "execution_count": 10,
     "metadata": {},
     "output_type": "execute_result"
    }
   ],
   "source": [
    "label_dist = pd.Series(data['category']).value_counts()\n",
    "label_dist"
   ]
  },
  {
   "cell_type": "code",
   "execution_count": 11,
   "metadata": {
    "execution": {
     "iopub.execute_input": "2023-10-24T15:10:14.252969Z",
     "iopub.status.busy": "2023-10-24T15:10:14.252686Z",
     "iopub.status.idle": "2023-10-24T15:10:14.290536Z",
     "shell.execute_reply": "2023-10-24T15:10:14.289436Z",
     "shell.execute_reply.started": "2023-10-24T15:10:14.252946Z"
    }
   },
   "outputs": [],
   "source": [
    "le = LabelEncoder()\n",
    "data['target'] = le.fit_transform(data['category'])"
   ]
  },
  {
   "cell_type": "code",
   "execution_count": 12,
   "metadata": {
    "execution": {
     "iopub.execute_input": "2023-10-24T15:10:14.292070Z",
     "iopub.status.busy": "2023-10-24T15:10:14.291748Z",
     "iopub.status.idle": "2023-10-24T15:10:14.299217Z",
     "shell.execute_reply": "2023-10-24T15:10:14.298443Z",
     "shell.execute_reply.started": "2023-10-24T15:10:14.292038Z"
    }
   },
   "outputs": [],
   "source": [
    "with open(\"arxiv_category_preprocessor_labelencoder.bin\", \"wb\") as model_file_obj:\n",
    "    cloudpickle.dump((tp, le), model_file_obj)"
   ]
  },
  {
   "cell_type": "code",
   "execution_count": 13,
   "metadata": {
    "execution": {
     "iopub.execute_input": "2023-10-24T15:10:14.300615Z",
     "iopub.status.busy": "2023-10-24T15:10:14.300269Z",
     "iopub.status.idle": "2023-10-24T15:10:14.361186Z",
     "shell.execute_reply": "2023-10-24T15:10:14.360229Z",
     "shell.execute_reply.started": "2023-10-24T15:10:14.300582Z"
    }
   },
   "outputs": [
    {
     "data": {
      "text/html": [
       "<div>\n",
       "<style scoped>\n",
       "    .dataframe tbody tr th:only-of-type {\n",
       "        vertical-align: middle;\n",
       "    }\n",
       "\n",
       "    .dataframe tbody tr th {\n",
       "        vertical-align: top;\n",
       "    }\n",
       "\n",
       "    .dataframe thead th {\n",
       "        text-align: right;\n",
       "    }\n",
       "</style>\n",
       "<table border=\"1\" class=\"dataframe\">\n",
       "  <thead>\n",
       "    <tr style=\"text-align: right;\">\n",
       "      <th></th>\n",
       "      <th>text</th>\n",
       "      <th>category</th>\n",
       "      <th>target</th>\n",
       "    </tr>\n",
       "  </thead>\n",
       "  <tbody>\n",
       "    <tr>\n",
       "      <th>0</th>\n",
       "      <td>pre white dwarfs eclipsing binaries wasp repor...</td>\n",
       "      <td>astro-ph</td>\n",
       "      <td>0</td>\n",
       "    </tr>\n",
       "    <tr>\n",
       "      <th>1</th>\n",
       "      <td>possible origin khz qpos low mass x ray binari...</td>\n",
       "      <td>astro-ph</td>\n",
       "      <td>0</td>\n",
       "    </tr>\n",
       "    <tr>\n",
       "      <th>2</th>\n",
       "      <td>effects driving time scales heating coronal ar...</td>\n",
       "      <td>astro-ph</td>\n",
       "      <td>0</td>\n",
       "    </tr>\n",
       "    <tr>\n",
       "      <th>3</th>\n",
       "      <td>new hard x ray selected sample extreme high en...</td>\n",
       "      <td>astro-ph</td>\n",
       "      <td>0</td>\n",
       "    </tr>\n",
       "    <tr>\n",
       "      <th>4</th>\n",
       "      <td>baryon cycle seven dwarfs superbubble feedback...</td>\n",
       "      <td>astro-ph</td>\n",
       "      <td>0</td>\n",
       "    </tr>\n",
       "    <tr>\n",
       "      <th>...</th>\n",
       "      <td>...</td>\n",
       "      <td>...</td>\n",
       "      <td>...</td>\n",
       "    </tr>\n",
       "    <tr>\n",
       "      <th>99995</th>\n",
       "      <td>semiparametric estimation space time max stabl...</td>\n",
       "      <td>stat</td>\n",
       "      <td>9</td>\n",
       "    </tr>\n",
       "    <tr>\n",
       "      <th>99996</th>\n",
       "      <td>spatial causal analysis wildland fire contribu...</td>\n",
       "      <td>stat</td>\n",
       "      <td>9</td>\n",
       "    </tr>\n",
       "    <tr>\n",
       "      <th>99997</th>\n",
       "      <td>neural conditional event time models event tim...</td>\n",
       "      <td>stat</td>\n",
       "      <td>9</td>\n",
       "    </tr>\n",
       "    <tr>\n",
       "      <th>99998</th>\n",
       "      <td>efficient estimation com poisson regression ge...</td>\n",
       "      <td>stat</td>\n",
       "      <td>9</td>\n",
       "    </tr>\n",
       "    <tr>\n",
       "      <th>99999</th>\n",
       "      <td>algcomparison comparing performance graphical ...</td>\n",
       "      <td>stat</td>\n",
       "      <td>9</td>\n",
       "    </tr>\n",
       "  </tbody>\n",
       "</table>\n",
       "<p>100000 rows × 3 columns</p>\n",
       "</div>"
      ],
      "text/plain": [
       "                                                    text  category  target\n",
       "0      pre white dwarfs eclipsing binaries wasp repor...  astro-ph       0\n",
       "1      possible origin khz qpos low mass x ray binari...  astro-ph       0\n",
       "2      effects driving time scales heating coronal ar...  astro-ph       0\n",
       "3      new hard x ray selected sample extreme high en...  astro-ph       0\n",
       "4      baryon cycle seven dwarfs superbubble feedback...  astro-ph       0\n",
       "...                                                  ...       ...     ...\n",
       "99995  semiparametric estimation space time max stabl...      stat       9\n",
       "99996  spatial causal analysis wildland fire contribu...      stat       9\n",
       "99997  neural conditional event time models event tim...      stat       9\n",
       "99998  efficient estimation com poisson regression ge...      stat       9\n",
       "99999  algcomparison comparing performance graphical ...      stat       9\n",
       "\n",
       "[100000 rows x 3 columns]"
      ]
     },
     "execution_count": 13,
     "metadata": {},
     "output_type": "execute_result"
    }
   ],
   "source": [
    "data"
   ]
  },
  {
   "cell_type": "code",
   "execution_count": 14,
   "metadata": {
    "execution": {
     "iopub.execute_input": "2023-10-24T15:10:14.362539Z",
     "iopub.status.busy": "2023-10-24T15:10:14.362235Z",
     "iopub.status.idle": "2023-10-24T15:10:14.373526Z",
     "shell.execute_reply": "2023-10-24T15:10:14.372580Z",
     "shell.execute_reply.started": "2023-10-24T15:10:14.362513Z"
    }
   },
   "outputs": [],
   "source": [
    "x = data['text'].copy()\n",
    "y = data['target'].copy()"
   ]
  },
  {
   "cell_type": "code",
   "execution_count": 15,
   "metadata": {
    "execution": {
     "iopub.execute_input": "2023-10-24T15:10:14.374959Z",
     "iopub.status.busy": "2023-10-24T15:10:14.374700Z",
     "iopub.status.idle": "2023-10-24T15:10:14.432923Z",
     "shell.execute_reply": "2023-10-24T15:10:14.432018Z",
     "shell.execute_reply.started": "2023-10-24T15:10:14.374937Z"
    }
   },
   "outputs": [],
   "source": [
    "x_train, x_test, y_train, y_test = train_test_split(x, y, test_size=0.2, random_state=42, stratify=y)"
   ]
  },
  {
   "cell_type": "code",
   "execution_count": 16,
   "metadata": {
    "execution": {
     "iopub.execute_input": "2023-10-24T15:10:14.434263Z",
     "iopub.status.busy": "2023-10-24T15:10:14.434002Z",
     "iopub.status.idle": "2023-10-24T15:10:14.440554Z",
     "shell.execute_reply": "2023-10-24T15:10:14.439674Z",
     "shell.execute_reply.started": "2023-10-24T15:10:14.434240Z"
    }
   },
   "outputs": [
    {
     "data": {
      "text/plain": [
       "((80000,), (20000,), (80000,), (20000,))"
      ]
     },
     "execution_count": 16,
     "metadata": {},
     "output_type": "execute_result"
    }
   ],
   "source": [
    "x_train.shape, x_test.shape, y_train.shape, y_test.shape"
   ]
  },
  {
   "cell_type": "code",
   "execution_count": 17,
   "metadata": {
    "execution": {
     "iopub.execute_input": "2023-10-24T15:10:14.444053Z",
     "iopub.status.busy": "2023-10-24T15:10:14.443681Z",
     "iopub.status.idle": "2023-10-24T15:10:14.458006Z",
     "shell.execute_reply": "2023-10-24T15:10:14.457206Z",
     "shell.execute_reply.started": "2023-10-24T15:10:14.444012Z"
    }
   },
   "outputs": [],
   "source": [
    "x_train, x_test, y_train, y_test = x_train.to_list(), x_test.to_list(), y_train.to_list(), y_test.to_list()"
   ]
  },
  {
   "cell_type": "code",
   "execution_count": 18,
   "metadata": {
    "execution": {
     "iopub.execute_input": "2023-10-24T15:10:14.459445Z",
     "iopub.status.busy": "2023-10-24T15:10:14.459111Z",
     "iopub.status.idle": "2023-10-24T15:10:14.474155Z",
     "shell.execute_reply": "2023-10-24T15:10:14.473351Z",
     "shell.execute_reply.started": "2023-10-24T15:10:14.459411Z"
    }
   },
   "outputs": [
    {
     "data": {
      "text/plain": [
       "[0, 1, 2, 3, 4, 5, 6, 7, 8, 9]"
      ]
     },
     "execution_count": 18,
     "metadata": {},
     "output_type": "execute_result"
    }
   ],
   "source": [
    "classes_ = sorted([*y.unique()]).copy()\n",
    "classes_"
   ]
  },
  {
   "cell_type": "code",
   "execution_count": 19,
   "metadata": {
    "execution": {
     "iopub.execute_input": "2023-10-24T15:10:17.093373Z",
     "iopub.status.busy": "2023-10-24T15:10:17.092402Z",
     "iopub.status.idle": "2023-10-24T15:10:17.600050Z",
     "shell.execute_reply": "2023-10-24T15:10:17.599195Z",
     "shell.execute_reply.started": "2023-10-24T15:10:17.093336Z"
    }
   },
   "outputs": [],
   "source": [
    "from transformers import RobertaTokenizerFast"
   ]
  },
  {
   "cell_type": "code",
   "execution_count": 20,
   "metadata": {
    "execution": {
     "iopub.execute_input": "2023-10-24T15:10:24.897384Z",
     "iopub.status.busy": "2023-10-24T15:10:24.896540Z",
     "iopub.status.idle": "2023-10-24T15:10:25.809035Z",
     "shell.execute_reply": "2023-10-24T15:10:25.808052Z",
     "shell.execute_reply.started": "2023-10-24T15:10:24.897350Z"
    }
   },
   "outputs": [
    {
     "data": {
      "application/vnd.jupyter.widget-view+json": {
       "model_id": "531f316e28094342bd438794690ff560",
       "version_major": 2,
       "version_minor": 0
      },
      "text/plain": [
       "Downloading (…)olve/main/vocab.json:   0%|          | 0.00/899k [00:00<?, ?B/s]"
      ]
     },
     "metadata": {},
     "output_type": "display_data"
    },
    {
     "data": {
      "application/vnd.jupyter.widget-view+json": {
       "model_id": "66da611c2aec47e985f99069e5e8096e",
       "version_major": 2,
       "version_minor": 0
      },
      "text/plain": [
       "Downloading (…)olve/main/merges.txt:   0%|          | 0.00/456k [00:00<?, ?B/s]"
      ]
     },
     "metadata": {},
     "output_type": "display_data"
    },
    {
     "data": {
      "application/vnd.jupyter.widget-view+json": {
       "model_id": "2ec1e04dd3bd4d9e829a4d0a41b02579",
       "version_major": 2,
       "version_minor": 0
      },
      "text/plain": [
       "Downloading (…)/main/tokenizer.json:   0%|          | 0.00/1.36M [00:00<?, ?B/s]"
      ]
     },
     "metadata": {},
     "output_type": "display_data"
    },
    {
     "data": {
      "application/vnd.jupyter.widget-view+json": {
       "model_id": "d3b71de34a9e485693352d4ce890fa19",
       "version_major": 2,
       "version_minor": 0
      },
      "text/plain": [
       "Downloading (…)lve/main/config.json:   0%|          | 0.00/481 [00:00<?, ?B/s]"
      ]
     },
     "metadata": {},
     "output_type": "display_data"
    }
   ],
   "source": [
    "model_checkpoint = \"roberta-base\"\n",
    "tokenizer = RobertaTokenizerFast.from_pretrained(model_checkpoint)"
   ]
  },
  {
   "cell_type": "code",
   "execution_count": 21,
   "metadata": {
    "execution": {
     "iopub.execute_input": "2023-10-24T15:10:28.583298Z",
     "iopub.status.busy": "2023-10-24T15:10:28.582960Z",
     "iopub.status.idle": "2023-10-24T15:10:28.603021Z",
     "shell.execute_reply": "2023-10-24T15:10:28.601881Z",
     "shell.execute_reply.started": "2023-10-24T15:10:28.583271Z"
    }
   },
   "outputs": [
    {
     "name": "stdout",
     "output_type": "stream",
     "text": [
      "exploring public reaction covid news social media portugal outburst proliferation covid pandemic together subsequent social distancing measures raised massive challenges almost domains public private life around globe stay home movement pushed news audiences social networks turn become most prolific field receiving sharing news updates well public expression opinions concerns feelings pandemic public opinion critical aspect analysing information events impact peoples lives research shown social media data may promising understanding people respond health risks social crisis feelings tend share adapting unforeseen circumstances threaten almost societal spheres paper presents results social media analysis news headlines posted major daily news outlet portugal sic noticias facebook january december focusing issues attention cycle audiences emotional response covid news outburst work adds emergent body studies examining public response coronavirus pandemic social media data\n",
      "['expl', 'oring', 'Ġpublic', 'Ġreaction', 'Ġcov', 'id', 'Ġnews', 'Ġsocial', 'Ġmedia', 'Ġport', 'ugal', 'Ġoutburst', 'Ġproliferation', 'Ġcov', 'id', 'Ġpand', 'emic', 'Ġtogether', 'Ġsubsequent', 'Ġsocial', 'Ġdist', 'ancing', 'Ġmeasures', 'Ġraised', 'Ġmassive', 'Ġchallenges', 'Ġalmost', 'Ġdomains', 'Ġpublic', 'Ġprivate', 'Ġlife', 'Ġaround', 'Ġglobe', 'Ġstay', 'Ġhome', 'Ġmovement', 'Ġpushed', 'Ġnews', 'Ġaudiences', 'Ġsocial', 'Ġnetworks', 'Ġturn', 'Ġbecome', 'Ġmost', 'Ġprolific', 'Ġfield', 'Ġreceiving', 'Ġsharing', 'Ġnews', 'Ġupdates', 'Ġwell', 'Ġpublic', 'Ġexpression', 'Ġopinions', 'Ġconcerns', 'Ġfeelings', 'Ġpand', 'emic', 'Ġpublic', 'Ġopinion', 'Ġcritical', 'Ġaspect', 'Ġanalys', 'ing', 'Ġinformation', 'Ġevents', 'Ġimpact', 'Ġpeoples', 'Ġlives', 'Ġresearch', 'Ġshown', 'Ġsocial', 'Ġmedia', 'Ġdata', 'Ġmay', 'Ġpromising', 'Ġunderstanding', 'Ġpeople', 'Ġrespond', 'Ġhealth', 'Ġrisks', 'Ġsocial', 'Ġcrisis', 'Ġfeelings', 'Ġtend', 'Ġshare', 'Ġadapting', 'Ġunforeseen', 'Ġcircumstances', 'Ġthreaten', 'Ġalmost', 'Ġsocietal', 'Ġspheres', 'Ġpaper', 'Ġpresents', 'Ġresults', 'Ġsocial', 'Ġmedia', 'Ġanalysis', 'Ġnews', 'Ġheadlines', 'Ġposted', 'Ġmajor', 'Ġdaily', 'Ġnews', 'Ġoutlet', 'Ġport', 'ugal', 'Ġs', 'ic', 'Ġnot', 'ic', 'ias', 'Ġfacebook', 'Ġjan', 'uary', 'Ġde', 'cember', 'Ġfocusing', 'Ġissues', 'Ġattention', 'Ġcycle', 'Ġaudiences', 'Ġemotional', 'Ġresponse', 'Ġcov', 'id', 'Ġnews', 'Ġoutburst', 'Ġwork', 'Ġadds', 'Ġemer', 'gent', 'Ġbody', 'Ġstudies', 'Ġexamining', 'Ġpublic', 'Ġresponse', 'Ġcoron', 'av', 'irus', 'Ġpand', 'emic', 'Ġsocial', 'Ġmedia', 'Ġdata']\n",
      "{'input_ids': [0, 23242, 5137, 285, 4289, 47268, 808, 340, 592, 433, 4103, 39029, 28999, 24739, 47268, 808, 23387, 14414, 561, 7757, 592, 7018, 7710, 1797, 1179, 2232, 2019, 818, 30700, 285, 940, 301, 198, 7183, 1095, 184, 2079, 3148, 340, 7768, 592, 4836, 1004, 555, 144, 17038, 882, 2806, 3565, 340, 3496, 157, 285, 8151, 5086, 1379, 6453, 23387, 14414, 285, 2979, 2008, 6659, 34273, 154, 335, 1061, 913, 16592, 1074, 557, 2343, 592, 433, 414, 189, 6177, 2969, 82, 2519, 474, 2476, 592, 1486, 6453, 3805, 458, 26493, 33257, 4215, 10508, 818, 24032, 35962, 2225, 6822, 775, 592, 433, 1966, 340, 6337, 1278, 538, 1230, 340, 9455, 4103, 39029, 579, 636, 45, 636, 5003, 10660, 10408, 16705, 263, 47153, 5650, 743, 1503, 4943, 7768, 3722, 1263, 47268, 808, 340, 28999, 173, 3639, 20583, 13907, 809, 3218, 14951, 285, 1263, 34377, 1469, 19473, 23387, 14414, 592, 433, 414, 2], 'attention_mask': [1, 1, 1, 1, 1, 1, 1, 1, 1, 1, 1, 1, 1, 1, 1, 1, 1, 1, 1, 1, 1, 1, 1, 1, 1, 1, 1, 1, 1, 1, 1, 1, 1, 1, 1, 1, 1, 1, 1, 1, 1, 1, 1, 1, 1, 1, 1, 1, 1, 1, 1, 1, 1, 1, 1, 1, 1, 1, 1, 1, 1, 1, 1, 1, 1, 1, 1, 1, 1, 1, 1, 1, 1, 1, 1, 1, 1, 1, 1, 1, 1, 1, 1, 1, 1, 1, 1, 1, 1, 1, 1, 1, 1, 1, 1, 1, 1, 1, 1, 1, 1, 1, 1, 1, 1, 1, 1, 1, 1, 1, 1, 1, 1, 1, 1, 1, 1, 1, 1, 1, 1, 1, 1, 1, 1, 1, 1, 1, 1, 1, 1, 1, 1, 1, 1, 1, 1, 1, 1, 1, 1, 1, 1, 1, 1, 1, 1, 1]}\n"
     ]
    }
   ],
   "source": [
    "print(x_train[0])\n",
    "print(tokenizer.tokenize(x_train[0]))\n",
    "print(tokenizer(x_train[0]))"
   ]
  },
  {
   "cell_type": "code",
   "execution_count": 22,
   "metadata": {
    "execution": {
     "iopub.execute_input": "2023-10-24T15:10:30.912515Z",
     "iopub.status.busy": "2023-10-24T15:10:30.912178Z",
     "iopub.status.idle": "2023-10-24T15:10:35.430513Z",
     "shell.execute_reply": "2023-10-24T15:10:35.429440Z",
     "shell.execute_reply.started": "2023-10-24T15:10:30.912490Z"
    }
   },
   "outputs": [],
   "source": [
    "strategy = tf.distribute.MirroredStrategy()"
   ]
  },
  {
   "cell_type": "code",
   "execution_count": 24,
   "metadata": {
    "execution": {
     "iopub.execute_input": "2023-10-24T15:10:39.092771Z",
     "iopub.status.busy": "2023-10-24T15:10:39.089471Z",
     "iopub.status.idle": "2023-10-24T15:10:39.099161Z",
     "shell.execute_reply": "2023-10-24T15:10:39.098043Z",
     "shell.execute_reply.started": "2023-10-24T15:10:39.092727Z"
    }
   },
   "outputs": [],
   "source": [
    "BATCH_SIZE = 32 * strategy.num_replicas_in_sync\n",
    "N_TOKENS = 200\n",
    "N_CLASSES = len(classes_)"
   ]
  },
  {
   "cell_type": "code",
   "execution_count": 25,
   "metadata": {
    "execution": {
     "iopub.execute_input": "2023-10-24T15:10:43.731130Z",
     "iopub.status.busy": "2023-10-24T15:10:43.730290Z",
     "iopub.status.idle": "2023-10-24T15:11:05.614499Z",
     "shell.execute_reply": "2023-10-24T15:11:05.613599Z",
     "shell.execute_reply.started": "2023-10-24T15:10:43.731095Z"
    }
   },
   "outputs": [],
   "source": [
    "train_tokens = tokenizer(x_train, max_length=N_TOKENS, padding=\"max_length\", truncation=True, return_tensors=\"tf\", return_attention_mask=True)\n",
    "test_tokens = tokenizer(x_test, max_length=N_TOKENS, padding=\"max_length\", truncation=True, return_tensors=\"tf\", return_attention_mask=True)"
   ]
  },
  {
   "cell_type": "code",
   "execution_count": 26,
   "metadata": {
    "execution": {
     "iopub.execute_input": "2023-10-24T15:11:11.068058Z",
     "iopub.status.busy": "2023-10-24T15:11:11.067682Z",
     "iopub.status.idle": "2023-10-24T15:11:11.074718Z",
     "shell.execute_reply": "2023-10-24T15:11:11.073680Z",
     "shell.execute_reply.started": "2023-10-24T15:11:11.068027Z"
    }
   },
   "outputs": [
    {
     "data": {
      "text/plain": [
       "[Encoding(num_tokens=200, attributes=[ids, type_ids, tokens, offsets, attention_mask, special_tokens_mask, overflowing]),\n",
       " Encoding(num_tokens=200, attributes=[ids, type_ids, tokens, offsets, attention_mask, special_tokens_mask, overflowing]),\n",
       " Encoding(num_tokens=200, attributes=[ids, type_ids, tokens, offsets, attention_mask, special_tokens_mask, overflowing]),\n",
       " Encoding(num_tokens=200, attributes=[ids, type_ids, tokens, offsets, attention_mask, special_tokens_mask, overflowing]),\n",
       " Encoding(num_tokens=200, attributes=[ids, type_ids, tokens, offsets, attention_mask, special_tokens_mask, overflowing])]"
      ]
     },
     "execution_count": 26,
     "metadata": {},
     "output_type": "execute_result"
    }
   ],
   "source": [
    "train_tokens[:5]"
   ]
  },
  {
   "cell_type": "code",
   "execution_count": 27,
   "metadata": {
    "execution": {
     "iopub.execute_input": "2023-10-24T15:11:13.364826Z",
     "iopub.status.busy": "2023-10-24T15:11:13.364448Z",
     "iopub.status.idle": "2023-10-24T15:11:13.393724Z",
     "shell.execute_reply": "2023-10-24T15:11:13.392878Z",
     "shell.execute_reply.started": "2023-10-24T15:11:13.364795Z"
    }
   },
   "outputs": [],
   "source": [
    "train_tf_data = tf.data.Dataset.from_tensor_slices((dict(train_tokens), to_categorical(y_train)))\n",
    "test_tf_data = tf.data.Dataset.from_tensor_slices((dict(test_tokens), to_categorical(y_test)))"
   ]
  },
  {
   "cell_type": "code",
   "execution_count": 28,
   "metadata": {
    "execution": {
     "iopub.execute_input": "2023-10-24T15:11:15.057829Z",
     "iopub.status.busy": "2023-10-24T15:11:15.056944Z",
     "iopub.status.idle": "2023-10-24T15:11:16.947938Z",
     "shell.execute_reply": "2023-10-24T15:11:16.946864Z",
     "shell.execute_reply.started": "2023-10-24T15:11:15.057792Z"
    }
   },
   "outputs": [],
   "source": [
    "del(data)\n",
    "del(train_tokens)\n",
    "del(test_tokens)"
   ]
  },
  {
   "cell_type": "code",
   "execution_count": 29,
   "metadata": {
    "execution": {
     "iopub.execute_input": "2023-10-24T15:11:16.949917Z",
     "iopub.status.busy": "2023-10-24T15:11:16.949560Z",
     "iopub.status.idle": "2023-10-24T15:11:16.967829Z",
     "shell.execute_reply": "2023-10-24T15:11:16.966875Z",
     "shell.execute_reply.started": "2023-10-24T15:11:16.949888Z"
    }
   },
   "outputs": [],
   "source": [
    "train_tf_data=train_tf_data.prefetch(tf.data.AUTOTUNE)\n",
    "test_tf_data=test_tf_data.prefetch(tf.data.AUTOTUNE)"
   ]
  },
  {
   "cell_type": "code",
   "execution_count": 30,
   "metadata": {
    "execution": {
     "iopub.execute_input": "2023-10-24T15:11:18.930730Z",
     "iopub.status.busy": "2023-10-24T15:11:18.930328Z",
     "iopub.status.idle": "2023-10-24T15:11:19.055250Z",
     "shell.execute_reply": "2023-10-24T15:11:19.054118Z",
     "shell.execute_reply.started": "2023-10-24T15:11:18.930700Z"
    }
   },
   "outputs": [
    {
     "name": "stdout",
     "output_type": "stream",
     "text": [
      "({'input_ids': <tf.Tensor: shape=(200,), dtype=int32, numpy=\n",
      "array([    0, 23242,  5137,   285,  4289, 47268,   808,   340,   592,\n",
      "         433,  4103, 39029, 28999, 24739, 47268,   808, 23387, 14414,\n",
      "         561,  7757,   592,  7018,  7710,  1797,  1179,  2232,  2019,\n",
      "         818, 30700,   285,   940,   301,   198,  7183,  1095,   184,\n",
      "        2079,  3148,   340,  7768,   592,  4836,  1004,   555,   144,\n",
      "       17038,   882,  2806,  3565,   340,  3496,   157,   285,  8151,\n",
      "        5086,  1379,  6453, 23387, 14414,   285,  2979,  2008,  6659,\n",
      "       34273,   154,   335,  1061,   913, 16592,  1074,   557,  2343,\n",
      "         592,   433,   414,   189,  6177,  2969,    82,  2519,   474,\n",
      "        2476,   592,  1486,  6453,  3805,   458, 26493, 33257,  4215,\n",
      "       10508,   818, 24032, 35962,  2225,  6822,   775,   592,   433,\n",
      "        1966,   340,  6337,  1278,   538,  1230,   340,  9455,  4103,\n",
      "       39029,   579,   636,    45,   636,  5003, 10660, 10408, 16705,\n",
      "         263, 47153,  5650,   743,  1503,  4943,  7768,  3722,  1263,\n",
      "       47268,   808,   340, 28999,   173,  3639, 20583, 13907,   809,\n",
      "        3218, 14951,   285,  1263, 34377,  1469, 19473, 23387, 14414,\n",
      "         592,   433,   414,     2,     1,     1,     1,     1,     1,\n",
      "           1,     1,     1,     1,     1,     1,     1,     1,     1,\n",
      "           1,     1,     1,     1,     1,     1,     1,     1,     1,\n",
      "           1,     1,     1,     1,     1,     1,     1,     1,     1,\n",
      "           1,     1,     1,     1,     1,     1,     1,     1,     1,\n",
      "           1,     1,     1,     1,     1,     1,     1,     1,     1,\n",
      "           1,     1], dtype=int32)>, 'attention_mask': <tf.Tensor: shape=(200,), dtype=int32, numpy=\n",
      "array([1, 1, 1, 1, 1, 1, 1, 1, 1, 1, 1, 1, 1, 1, 1, 1, 1, 1, 1, 1, 1, 1,\n",
      "       1, 1, 1, 1, 1, 1, 1, 1, 1, 1, 1, 1, 1, 1, 1, 1, 1, 1, 1, 1, 1, 1,\n",
      "       1, 1, 1, 1, 1, 1, 1, 1, 1, 1, 1, 1, 1, 1, 1, 1, 1, 1, 1, 1, 1, 1,\n",
      "       1, 1, 1, 1, 1, 1, 1, 1, 1, 1, 1, 1, 1, 1, 1, 1, 1, 1, 1, 1, 1, 1,\n",
      "       1, 1, 1, 1, 1, 1, 1, 1, 1, 1, 1, 1, 1, 1, 1, 1, 1, 1, 1, 1, 1, 1,\n",
      "       1, 1, 1, 1, 1, 1, 1, 1, 1, 1, 1, 1, 1, 1, 1, 1, 1, 1, 1, 1, 1, 1,\n",
      "       1, 1, 1, 1, 1, 1, 1, 1, 1, 1, 1, 1, 1, 1, 1, 1, 0, 0, 0, 0, 0, 0,\n",
      "       0, 0, 0, 0, 0, 0, 0, 0, 0, 0, 0, 0, 0, 0, 0, 0, 0, 0, 0, 0, 0, 0,\n",
      "       0, 0, 0, 0, 0, 0, 0, 0, 0, 0, 0, 0, 0, 0, 0, 0, 0, 0, 0, 0, 0, 0,\n",
      "       0, 0], dtype=int32)>}, <tf.Tensor: shape=(10,), dtype=float32, numpy=array([0., 0., 1., 0., 0., 0., 0., 0., 0., 0.], dtype=float32)>)\n"
     ]
    }
   ],
   "source": [
    "for i in train_tf_data.take(1):\n",
    "    print(i)"
   ]
  },
  {
   "cell_type": "code",
   "execution_count": 33,
   "metadata": {
    "execution": {
     "iopub.execute_input": "2023-10-24T15:11:51.857795Z",
     "iopub.status.busy": "2023-10-24T15:11:51.857154Z",
     "iopub.status.idle": "2023-10-24T15:11:51.868390Z",
     "shell.execute_reply": "2023-10-24T15:11:51.867141Z",
     "shell.execute_reply.started": "2023-10-24T15:11:51.857761Z"
    }
   },
   "outputs": [],
   "source": [
    "from transformers import TFRobertaModel, RobertaConfig\n",
    "from tensorflow.keras.layers import Input, Dense, Dropout, Average, BatchNormalization"
   ]
  },
  {
   "cell_type": "code",
   "execution_count": 35,
   "metadata": {
    "execution": {
     "iopub.execute_input": "2023-10-24T15:11:59.111336Z",
     "iopub.status.busy": "2023-10-24T15:11:59.110472Z",
     "iopub.status.idle": "2023-10-24T15:11:59.169001Z",
     "shell.execute_reply": "2023-10-24T15:11:59.167770Z",
     "shell.execute_reply.started": "2023-10-24T15:11:59.111300Z"
    }
   },
   "outputs": [],
   "source": [
    "config = RobertaConfig.from_pretrained(model_checkpoint, output_hidden_states=False)"
   ]
  },
  {
   "cell_type": "code",
   "execution_count": 63,
   "metadata": {
    "execution": {
     "iopub.execute_input": "2023-10-24T15:53:58.998908Z",
     "iopub.status.busy": "2023-10-24T15:53:58.998537Z",
     "iopub.status.idle": "2023-10-24T15:54:03.600639Z",
     "shell.execute_reply": "2023-10-24T15:54:03.599669Z",
     "shell.execute_reply.started": "2023-10-24T15:53:58.998879Z"
    }
   },
   "outputs": [
    {
     "name": "stderr",
     "output_type": "stream",
     "text": [
      "Some weights of the PyTorch model were not used when initializing the TF 2.0 model TFRobertaModel: ['lm_head.layer_norm.bias', 'lm_head.dense.bias', 'lm_head.dense.weight', 'roberta.embeddings.position_ids', 'lm_head.bias', 'lm_head.layer_norm.weight']\n",
      "- This IS expected if you are initializing TFRobertaModel from a PyTorch model trained on another task or with another architecture (e.g. initializing a TFBertForSequenceClassification model from a BertForPreTraining model).\n",
      "- This IS NOT expected if you are initializing TFRobertaModel from a PyTorch model that you expect to be exactly identical (e.g. initializing a TFBertForSequenceClassification model from a BertForSequenceClassification model).\n",
      "Some weights or buffers of the TF 2.0 model TFRobertaModel were not initialized from the PyTorch model and are newly initialized: ['roberta.pooler.dense.weight', 'roberta.pooler.dense.bias']\n",
      "You should probably TRAIN this model on a down-stream task to be able to use it for predictions and inference.\n"
     ]
    }
   ],
   "source": [
    "with strategy.scope():\n",
    "    model = TFRobertaModel.from_pretrained(model_checkpoint, config=config)\n",
    "    input_ids = Input(shape=(N_TOKENS,), dtype=tf.int32, name=\"input_ids\")\n",
    "    attention_mask = Input(shape=(N_TOKENS,), dtype=tf.int32, name=\"attention_mask\")\n",
    "    x = model([input_ids, attention_mask])[0][:,0,:] # [CLS] token of last hidden state\n",
    "    x = Dropout(0.3)(x)\n",
    "    x = BatchNormalization()(x)\n",
    "    x = Dense(512, activation=\"relu\")(x)\n",
    "    x = Dropout(0.3)(x)\n",
    "    x = BatchNormalization()(x)\n",
    "    x = Dense(256, activation=\"relu\")(x)\n",
    "    x = Dropout(0.3)(x)\n",
    "    x = BatchNormalization()(x)\n",
    "    output = Dense(N_CLASSES, activation=\"softmax\", name=\"output\")(x)\n",
    "    model = tf.keras.Model(inputs=[input_ids, attention_mask],outputs=output)\n",
    "    model.compile(optimizer=tf.keras.optimizers.Adam(5e-5), metrics=[\"categorical_accuracy\"], loss=\"categorical_crossentropy\")"
   ]
  },
  {
   "cell_type": "code",
   "execution_count": 64,
   "metadata": {
    "execution": {
     "iopub.execute_input": "2023-10-24T15:54:03.602674Z",
     "iopub.status.busy": "2023-10-24T15:54:03.602361Z",
     "iopub.status.idle": "2023-10-24T15:54:03.665015Z",
     "shell.execute_reply": "2023-10-24T15:54:03.664145Z",
     "shell.execute_reply.started": "2023-10-24T15:54:03.602642Z"
    }
   },
   "outputs": [
    {
     "name": "stdout",
     "output_type": "stream",
     "text": [
      "Model: \"model_9\"\n",
      "__________________________________________________________________________________________________\n",
      " Layer (type)                   Output Shape         Param #     Connected to                     \n",
      "==================================================================================================\n",
      " input_ids (InputLayer)         [(None, 200)]        0           []                               \n",
      "                                                                                                  \n",
      " attention_mask (InputLayer)    [(None, 200)]        0           []                               \n",
      "                                                                                                  \n",
      " tf_roberta_model_9 (TFRobertaM  TFBaseModelOutputWi  124645632  ['input_ids[0][0]',              \n",
      " odel)                          thPoolingAndCrossAt               'attention_mask[0][0]']         \n",
      "                                tentions(last_hidde                                               \n",
      "                                n_state=(None, 200,                                               \n",
      "                                 768),                                                            \n",
      "                                 pooler_output=(Non                                               \n",
      "                                e, 768),                                                          \n",
      "                                 past_key_values=No                                               \n",
      "                                ne, hidden_states=N                                               \n",
      "                                one, attentions=Non                                               \n",
      "                                e, cross_attentions                                               \n",
      "                                =None)                                                            \n",
      "                                                                                                  \n",
      " tf.__operators__.getitem_9 (Sl  (None, 768)         0           ['tf_roberta_model_9[0][0]']     \n",
      " icingOpLambda)                                                                                   \n",
      "                                                                                                  \n",
      " dropout_397 (Dropout)          (None, 768)          0           ['tf.__operators__.getitem_9[0][0\n",
      "                                                                 ]']                              \n",
      "                                                                                                  \n",
      " batch_normalization_27 (BatchN  (None, 768)         3072        ['dropout_397[0][0]']            \n",
      " ormalization)                                                                                    \n",
      "                                                                                                  \n",
      " dense_18 (Dense)               (None, 512)          393728      ['batch_normalization_27[0][0]'] \n",
      "                                                                                                  \n",
      " dropout_398 (Dropout)          (None, 512)          0           ['dense_18[0][0]']               \n",
      "                                                                                                  \n",
      " batch_normalization_28 (BatchN  (None, 512)         2048        ['dropout_398[0][0]']            \n",
      " ormalization)                                                                                    \n",
      "                                                                                                  \n",
      " dense_19 (Dense)               (None, 256)          131328      ['batch_normalization_28[0][0]'] \n",
      "                                                                                                  \n",
      " dropout_399 (Dropout)          (None, 256)          0           ['dense_19[0][0]']               \n",
      "                                                                                                  \n",
      " batch_normalization_29 (BatchN  (None, 256)         1024        ['dropout_399[0][0]']            \n",
      " ormalization)                                                                                    \n",
      "                                                                                                  \n",
      " output (Dense)                 (None, 10)           2570        ['batch_normalization_29[0][0]'] \n",
      "                                                                                                  \n",
      "==================================================================================================\n",
      "Total params: 125,179,402\n",
      "Trainable params: 125,176,330\n",
      "Non-trainable params: 3,072\n",
      "__________________________________________________________________________________________________\n"
     ]
    }
   ],
   "source": [
    "model.summary()"
   ]
  },
  {
   "cell_type": "code",
   "execution_count": 65,
   "metadata": {
    "execution": {
     "iopub.execute_input": "2023-10-24T15:54:03.666377Z",
     "iopub.status.busy": "2023-10-24T15:54:03.666118Z",
     "iopub.status.idle": "2023-10-24T15:54:03.670924Z",
     "shell.execute_reply": "2023-10-24T15:54:03.669894Z",
     "shell.execute_reply.started": "2023-10-24T15:54:03.666353Z"
    }
   },
   "outputs": [],
   "source": [
    "from tensorflow.keras.callbacks import EarlyStopping\n",
    "early_stop = EarlyStopping(monitor=\"val_loss\",patience=1,mode=\"min\")"
   ]
  },
  {
   "cell_type": "code",
   "execution_count": 66,
   "metadata": {
    "execution": {
     "iopub.execute_input": "2023-10-24T15:54:03.673316Z",
     "iopub.status.busy": "2023-10-24T15:54:03.672938Z",
     "iopub.status.idle": "2023-10-24T17:32:26.400319Z",
     "shell.execute_reply": "2023-10-24T17:32:26.399425Z",
     "shell.execute_reply.started": "2023-10-24T15:54:03.673283Z"
    }
   },
   "outputs": [
    {
     "name": "stdout",
     "output_type": "stream",
     "text": [
      "Epoch 1/10\n",
      "1250/1250 [==============================] - 2053s 2s/step - loss: 0.9866 - categorical_accuracy: 0.6890 - val_loss: 0.6373 - val_categorical_accuracy: 0.8040\n",
      "Epoch 2/10\n",
      "1250/1250 [==============================] - 1927s 2s/step - loss: 0.5902 - categorical_accuracy: 0.8087 - val_loss: 0.4960 - val_categorical_accuracy: 0.8354\n",
      "Epoch 3/10\n",
      "1250/1250 [==============================] - 1922s 2s/step - loss: 0.4817 - categorical_accuracy: 0.8423 - val_loss: 0.5077 - val_categorical_accuracy: 0.8384\n"
     ]
    },
    {
     "data": {
      "text/plain": [
       "<keras.callbacks.History at 0x7e67fda54580>"
      ]
     },
     "execution_count": 66,
     "metadata": {},
     "output_type": "execute_result"
    }
   ],
   "source": [
    "model.fit(train_tf_data.shuffle(len(train_tf_data)).batch(BATCH_SIZE), validation_data=test_tf_data.shuffle(len(test_tf_data)).batch(BATCH_SIZE), \n",
    "          epochs=10, callbacks=[early_stop])"
   ]
  },
  {
   "cell_type": "code",
   "execution_count": 67,
   "metadata": {
    "execution": {
     "iopub.execute_input": "2023-10-24T17:33:05.071809Z",
     "iopub.status.busy": "2023-10-24T17:33:05.071425Z",
     "iopub.status.idle": "2023-10-24T17:33:05.076271Z",
     "shell.execute_reply": "2023-10-24T17:33:05.075310Z",
     "shell.execute_reply.started": "2023-10-24T17:33:05.071776Z"
    }
   },
   "outputs": [],
   "source": [
    "del(train_tf_data)\n",
    "del(test_tf_data)"
   ]
  },
  {
   "cell_type": "code",
   "execution_count": 68,
   "metadata": {
    "execution": {
     "iopub.execute_input": "2023-10-24T17:33:12.115244Z",
     "iopub.status.busy": "2023-10-24T17:33:12.114916Z",
     "iopub.status.idle": "2023-10-24T17:33:15.259677Z",
     "shell.execute_reply": "2023-10-24T17:33:15.258616Z",
     "shell.execute_reply.started": "2023-10-24T17:33:12.115219Z"
    }
   },
   "outputs": [],
   "source": [
    "model.save(\"arxiv_classifier_hf_roberta.h5\")"
   ]
  },
  {
   "cell_type": "code",
   "execution_count": 69,
   "metadata": {
    "execution": {
     "iopub.execute_input": "2023-10-24T17:33:24.151549Z",
     "iopub.status.busy": "2023-10-24T17:33:24.151189Z",
     "iopub.status.idle": "2023-10-24T17:33:24.155900Z",
     "shell.execute_reply": "2023-10-24T17:33:24.154852Z",
     "shell.execute_reply.started": "2023-10-24T17:33:24.151516Z"
    }
   },
   "outputs": [],
   "source": [
    "del(model)"
   ]
  },
  {
   "cell_type": "markdown",
   "metadata": {},
   "source": [
    "**INFERENCE**"
   ]
  },
  {
   "cell_type": "code",
   "execution_count": 129,
   "metadata": {
    "execution": {
     "iopub.execute_input": "2023-10-24T17:51:10.830489Z",
     "iopub.status.busy": "2023-10-24T17:51:10.830106Z",
     "iopub.status.idle": "2023-10-24T17:51:16.862896Z",
     "shell.execute_reply": "2023-10-24T17:51:16.861820Z",
     "shell.execute_reply.started": "2023-10-24T17:51:10.830460Z"
    }
   },
   "outputs": [],
   "source": [
    "import transformers\n",
    "import tensorflow as tf\n",
    "import cloudpickle\n",
    "from transformers import RobertaTokenizerFast\n",
    "\n",
    "with open(\"arxiv_category_preprocessor_labelencoder.bin\", \"rb\") as model_file_obj:\n",
    "    text_preprocessor, label_encoder = cloudpickle.load(model_file_obj)\n",
    "model = tf.keras.models.load_model('arxiv_classifier_hf_roberta.h5', custom_objects={\"TFRobertaModel\": transformers.TFRobertaModel})\n",
    "model_checkpoint = \"roberta-base\"\n",
    "tokenizer = RobertaTokenizerFast.from_pretrained(model_checkpoint)"
   ]
  },
  {
   "cell_type": "code",
   "execution_count": 130,
   "metadata": {
    "execution": {
     "iopub.execute_input": "2023-10-24T17:51:19.738064Z",
     "iopub.status.busy": "2023-10-24T17:51:19.737691Z",
     "iopub.status.idle": "2023-10-24T17:51:19.744735Z",
     "shell.execute_reply": "2023-10-24T17:51:19.743677Z",
     "shell.execute_reply.started": "2023-10-24T17:51:19.738035Z"
    }
   },
   "outputs": [],
   "source": [
    "import numpy as np\n",
    "import pandas as pd\n",
    "def inference(text: str):\n",
    "    text = text_preprocessor.preprocess(pd.Series(text))[0]\n",
    "    tokens = tokenizer([text], max_length=200, padding=\"max_length\", truncation=True, return_tensors=\"tf\")\n",
    "    input_ = [tokens['input_ids'], tokens['attention_mask']]\n",
    "    pred = model.predict(input_, verbose=0)\n",
    "    arg_max = np.argmax(pred[0])\n",
    "    return [label_encoder.inverse_transform([arg_max])[0],  pred[0][arg_max]]"
   ]
  },
  {
   "cell_type": "code",
   "execution_count": 131,
   "metadata": {
    "execution": {
     "iopub.execute_input": "2023-10-24T17:51:26.572782Z",
     "iopub.status.busy": "2023-10-24T17:51:26.572382Z",
     "iopub.status.idle": "2023-10-24T17:51:29.783376Z",
     "shell.execute_reply": "2023-10-24T17:51:29.782565Z",
     "shell.execute_reply.started": "2023-10-24T17:51:26.572749Z"
    }
   },
   "outputs": [
    {
     "data": {
      "text/plain": [
       "['cs', 0.9987519]"
      ]
     },
     "execution_count": 131,
     "metadata": {},
     "output_type": "execute_result"
    }
   ],
   "source": [
    "txt = '''\n",
    "Most widely-used pre-trained language models operate on sequences of tokens corresponding to word or subword units. By comparison, token-free models that operate directly on raw text (bytes or characters) have\n",
    "many benefits: they can process text in any\n",
    "language out of the box, they are more robust\n",
    "to noise, and they minimize technical debt by\n",
    "removing complex and error-prone text preprocessing pipelines. Since byte or character\n",
    "sequences are longer than token sequences,\n",
    "past work on token-free models has often introduced new model architectures designed\n",
    "to amortize the cost of operating directly on\n",
    "raw text. In this paper, we show that a standard Transformer architecture can be used\n",
    "with minimal modifications to process byte\n",
    "sequences\n",
    "'''\n",
    "inference(txt)"
   ]
  },
  {
   "cell_type": "code",
   "execution_count": 132,
   "metadata": {
    "execution": {
     "iopub.execute_input": "2023-10-24T17:51:32.787301Z",
     "iopub.status.busy": "2023-10-24T17:51:32.786917Z",
     "iopub.status.idle": "2023-10-24T17:51:32.922515Z",
     "shell.execute_reply": "2023-10-24T17:51:32.921432Z",
     "shell.execute_reply.started": "2023-10-24T17:51:32.787271Z"
    }
   },
   "outputs": [
    {
     "data": {
      "text/plain": [
       "['hep-ph', 0.999938]"
      ]
     },
     "execution_count": 132,
     "metadata": {},
     "output_type": "execute_result"
    }
   ],
   "source": [
    "txt = '''\n",
    "Measurements of coherent charmonium production cross sections together with their ratio in ultra-peripheral PbPb collisions are studied at\n",
    "a nucleon-nucleon centre-of-mass energy of 5.02 TeV, the differential crosssections are measured as a function of rapidity and transverse momentum,\n",
    "separately. The photo-production of J/ψ mesons at low transverse momentum is studied in peripheral PbPb collisions, which confirms coherent J/ψ\n",
    "production in hadronic collisions. These latest results significantly improve\n",
    "previous measurements and are compared with some theoretical predictions.\n",
    "'''\n",
    "inference(txt)"
   ]
  },
  {
   "cell_type": "code",
   "execution_count": 133,
   "metadata": {
    "execution": {
     "iopub.execute_input": "2023-10-24T17:51:34.926321Z",
     "iopub.status.busy": "2023-10-24T17:51:34.925551Z",
     "iopub.status.idle": "2023-10-24T17:51:35.057590Z",
     "shell.execute_reply": "2023-10-24T17:51:35.056649Z",
     "shell.execute_reply.started": "2023-10-24T17:51:34.926291Z"
    }
   },
   "outputs": [
    {
     "data": {
      "text/plain": [
       "['math', 0.9949458]"
      ]
     },
     "execution_count": 133,
     "metadata": {},
     "output_type": "execute_result"
    }
   ],
   "source": [
    "txt = '''\n",
    "Let p be a prime, W the ring of Witt vectors of a perfect field k of characteristic p and ζ a primitive pth root of unity. We introduce a new notion of calculus over W that we call absolute calculus. It may be seen as a singular version of the q-calculus used in previous work, in the sense that the role of the coordinate is now played by q itself. \n",
    "We show that what we call a weakly nilpotent absolute connection on a finite free module is equivalent to a prismatic vector bundle on W[ζ]. As a corollary of a theorem of Bhatt and Scholze, we finally obtain that an absolute connection with a frobenius structure on a finite free module is equivalent to a lattice in a crystalline representation. We also consider the case of de Rham prismatic crystals as well as Hodge-Tate prismatic crystals.'''\n",
    "inference(txt)"
   ]
  },
  {
   "cell_type": "code",
   "execution_count": 134,
   "metadata": {
    "execution": {
     "iopub.execute_input": "2023-10-24T17:51:36.574760Z",
     "iopub.status.busy": "2023-10-24T17:51:36.574354Z",
     "iopub.status.idle": "2023-10-24T17:51:36.701966Z",
     "shell.execute_reply": "2023-10-24T17:51:36.700945Z",
     "shell.execute_reply.started": "2023-10-24T17:51:36.574727Z"
    }
   },
   "outputs": [
    {
     "data": {
      "text/plain": [
       "['stat', 0.48001435]"
      ]
     },
     "execution_count": 134,
     "metadata": {},
     "output_type": "execute_result"
    }
   ],
   "source": [
    "txt = '''\n",
    "Stabilizing proteins is a foundational step in protein engineering. However, the\n",
    "evolutionary pressure of all extant proteins makes identifying the scarce number of\n",
    "mutations that will improve thermodynamic stability challenging. Deep learning\n",
    "has recently emerged as a powerful tool for identifying promising mutations. Existing approaches, however, are computationally expensive, as the number of model\n",
    "inferences scales with the number of mutations queried. Our main contribution is\n",
    "a simple, parallel decoding algorithm. Our Mutate Everything is capable of predicting the effect of all single and double mutations in one forward pass. It is even\n",
    "versatile enough to predict higher-order mutations with minimal computational\n",
    "overhead. We build our Mutate Everything on top of ESM2 and AlphaFold, neither\n",
    "of which were trained to predict thermodynamic stability. We trained on the MegaScale cDNA proteolysis dataset and achieved state-of-the-art performance on single\n",
    "and higher-order mutations on S669, ProTherm, and ProteinGym datasets'''\n",
    "inference(txt)"
   ]
  },
  {
   "cell_type": "code",
   "execution_count": 135,
   "metadata": {
    "execution": {
     "iopub.execute_input": "2023-10-24T17:54:18.655746Z",
     "iopub.status.busy": "2023-10-24T17:54:18.655340Z",
     "iopub.status.idle": "2023-10-24T17:54:18.782407Z",
     "shell.execute_reply": "2023-10-24T17:54:18.781515Z",
     "shell.execute_reply.started": "2023-10-24T17:54:18.655712Z"
    }
   },
   "outputs": [
    {
     "data": {
      "text/plain": [
       "['stat', 0.8867156]"
      ]
     },
     "execution_count": 135,
     "metadata": {},
     "output_type": "execute_result"
    }
   ],
   "source": [
    "txt = '''\n",
    "We incorporate a version of a spike and slab prior, comprising a pointmass at zero (\"spike\") and a Normal distribution around zero (\"slab\") into a dynamic panel data framework to model coefficient heterogeneity. In addition to homogeneity and full heterogeneity, our specification can also capture sparse heterogeneity, that is, there is a core group of units that share common parameters and a set of deviators with idiosyncratic parameters. We fit a model with unobserved components to income data from the Panel Study of Income Dynamics. \n",
    "We find evidence for sparse heterogeneity for balanced panels composed of individuals with long employment histories.'''\n",
    "inference(txt)"
   ]
  },
  {
   "cell_type": "code",
   "execution_count": 137,
   "metadata": {
    "execution": {
     "iopub.execute_input": "2023-10-24T17:57:10.461935Z",
     "iopub.status.busy": "2023-10-24T17:57:10.461077Z",
     "iopub.status.idle": "2023-10-24T17:57:10.589367Z",
     "shell.execute_reply": "2023-10-24T17:57:10.588388Z",
     "shell.execute_reply.started": "2023-10-24T17:57:10.461903Z"
    }
   },
   "outputs": [
    {
     "data": {
      "text/plain": [
       "['astro-ph', 0.9994288]"
      ]
     },
     "execution_count": 137,
     "metadata": {},
     "output_type": "execute_result"
    }
   ],
   "source": [
    "txt = '''\n",
    "Despite investments in multiple space and ground-based solar observatories by the\n",
    "global community, the Sun’s polar regions remain unchartered territory – the last great\n",
    "frontier for solar observations. Breaching this frontier is fundamental to understanding\n",
    "the solar cycle – the ultimate driver of short-to-long term solar activity that encompasses\n",
    "space weather and space climate. Magnetohydrodynamic dynamo models and\n",
    "empirically observed relationships have established that the polar field is the primary\n",
    "determinant of future solar cycle amplitude. Models of solar surface evolution of tilted\n",
    "active regions indicate that the mid-to-high latitude surges of magnetic flux govern the\n",
    "dynamics leading to the reversal and build-up of polar field. Our theoretical\n",
    "understanding and numerical models of this high latitude magnetic field dynamics and\n",
    "plasma flows – that are a critical component of the sunspot cycle – lack precise\n",
    "observational constraints, currently limited by large projection effects due to our location\n",
    "in the plane of the ecliptic.'''\n",
    "inference(txt)"
   ]
  }
 ],
 "metadata": {
  "kernelspec": {
   "display_name": "Python 3 (ipykernel)",
   "language": "python",
   "name": "python3"
  },
  "language_info": {
   "codemirror_mode": {
    "name": "ipython",
    "version": 3
   },
   "file_extension": ".py",
   "mimetype": "text/x-python",
   "name": "python",
   "nbconvert_exporter": "python",
   "pygments_lexer": "ipython3",
   "version": "3.11.4"
  }
 },
 "nbformat": 4,
 "nbformat_minor": 4
}
