{
 "cells": [
  {
   "cell_type": "markdown",
   "id": "162d2487-7736-483c-824a-20e0615365c5",
   "metadata": {
    "tags": []
   },
   "source": [
    "## Get sentence embeddings from DistilBERT model that is fine-tuned on Wikipedia data for article classification"
   ]
  },
  {
   "cell_type": "code",
   "execution_count": 1,
   "id": "83448dd5-f600-4236-9ba9-5af1637791cd",
   "metadata": {
    "tags": []
   },
   "outputs": [],
   "source": [
    "import transformers\n",
    "import numpy as np\n",
    "from numpy.linalg import norm\n",
    "import pandas as pd\n",
    "import string\n",
    "import tensorflow as tf\n",
    "import cloudpickle\n",
    "from transformers import DistilBertTokenizerFast\n",
    "from tensorflow.keras.models import load_model, Model"
   ]
  },
  {
   "cell_type": "code",
   "execution_count": 2,
   "id": "529ed423-ae0f-4cf1-b819-c20a16337357",
   "metadata": {
    "tags": []
   },
   "outputs": [],
   "source": [
    "class TextPreprocessor:\n",
    "    def __init__(self, remove_punct: bool = True, remove_digits: bool = True,\n",
    "                 remove_stop_words: bool = True,\n",
    "                 remove_short_words: bool = True, minlen: int = 1, maxlen: int = 1, top_p: float = None,\n",
    "                 bottom_p: float = None):\n",
    "        self.remove_punct = remove_punct\n",
    "        self.remove_digits = remove_digits\n",
    "        self.remove_stop_words = remove_stop_words\n",
    "        self.remove_short_words = remove_short_words\n",
    "        self.minlen = minlen\n",
    "        self.maxlen = maxlen\n",
    "        self.top_p = top_p\n",
    "        self.bottom_p = bottom_p\n",
    "        self.words_to_remove = []\n",
    "        self.stop_words = ['i', 'me', 'my', 'myself', 'we', 'our', 'ours', 'ourselves', 'you',\n",
    "                           'your', 'yours', 'yourself', 'yourselves', 'he', 'him', 'his', 'himself',\n",
    "                           'she', 'her', 'hers', 'herself', 'it', 'its', 'itself', 'they', 'them',\n",
    "                           'their', 'theirs', 'themselves', 'what', 'which', 'who', 'whom', 'this', 'that',\n",
    "                           'these', 'those', 'am', 'is', 'are', 'was', 'were', 'be', 'been', 'being', 'have', 'has',\n",
    "                           'had', 'having', 'do', 'does', 'did', 'doing', 'a', 'an', 'the', 'and', 'if', 'or',\n",
    "                           'because', 'as', 'until', 'while', 'of', 'at', 'by', 'for', 'with', 'about',\n",
    "                           'into', 'through', 'during', 'before', 'after', 'to', 'from',\n",
    "                           'in', 'out', 'on', 'off', 'further', 'then', 'once',\n",
    "                           'here', 'there', 'when', 'where', 'why', 'how', 'all', 'any', 'both', 'each',\n",
    "                           'other', 'such', 'only', 'own', 'same', 'so', 'than',\n",
    "                           'too', 'can', 'will', 'just', 'should',\n",
    "                           'now']\n",
    "\n",
    "        \n",
    "\n",
    "    @staticmethod\n",
    "    def __remove_double_whitespaces(string: str):\n",
    "        return \" \".join(string.split())\n",
    "    \n",
    "\n",
    "    def __remove_punct(self, string_series: pd.Series):\n",
    "        \"\"\"\n",
    "       Removes punctuations from the input string.\n",
    "       :param string_series: pd.Series, input string series\n",
    "       :return: pd.Series, cleaned string series\n",
    "       \"\"\"\n",
    "        clean_string_series = string_series.copy()\n",
    "        puncts = [r'\\n', r'\\r', r'\\t']\n",
    "        puncts.extend(list(string.punctuation))\n",
    "        for i in puncts:\n",
    "            clean_string_series = clean_string_series.str.replace(pat=i, repl=\" \", regex=False).copy()\n",
    "        return clean_string_series.map(self.__remove_double_whitespaces)\n",
    "\n",
    "    def __remove_digits(self, string_series: pd.Series):\n",
    "        \"\"\"\n",
    "       Removes digits from the input string.\n",
    "       :param string_series: pd.Series, input string series\n",
    "       :return: pd.Series, cleaned string series\n",
    "       \"\"\"\n",
    "        clean_string_series = string_series.str.replace(pat=r'\\d', repl=\" \", regex=True).copy()\n",
    "        return clean_string_series.map(self.__remove_double_whitespaces)\n",
    " \n",
    "\n",
    "    def __remove_stop_words(self, string_series: pd.Series):\n",
    "        \"\"\"\n",
    "       Removes stop words from the input string.\n",
    "       :param string_series: pd.Series, input string series\n",
    "       :return: pd.Series, cleaned string series\n",
    "       \"\"\"\n",
    "        def str_remove_stop_words(string: str):\n",
    "            stops = self.stop_words\n",
    "            return \" \".join([token for token in string.split() if token not in stops])\n",
    "\n",
    "        return string_series.map(str_remove_stop_words)\n",
    "\n",
    "    \n",
    "\n",
    "    def preprocess(self, string_series: pd.Series, dataset: str = \"train\"):\n",
    "        \"\"\"\n",
    "        Entry point.\n",
    "        :param string_series: pd.Series, input string series\n",
    "        :param dataset: str, \"train\" for training set, \"tesrt\" for val/dev/test set.\n",
    "        :return: pd.Series, cleaned string series\n",
    "        \"\"\"\n",
    "        string_series = string_series.str.lower()\n",
    "        if self.remove_punct:\n",
    "            string_series = self.__remove_punct(string_series=string_series)\n",
    "        if self.remove_digits:\n",
    "            string_series = self.__remove_digits(string_series=string_series)\n",
    "        if self.remove_stop_words:\n",
    "            string_series = self.__remove_stop_words(string_series=string_series)\n",
    "        \n",
    "\n",
    "        string_series = string_series.str.strip()\n",
    "        string_series.replace(to_replace=\"\", value=\"this is an empty message\", inplace=True)\n",
    "\n",
    "        return string_series"
   ]
  },
  {
   "cell_type": "code",
   "execution_count": 3,
   "id": "94965880-5245-4516-b730-7d41ad9dea7b",
   "metadata": {
    "tags": []
   },
   "outputs": [],
   "source": [
    "def get_tokenizer_model():\n",
    "    model = tf.keras.models.load_model('dbpedia_classifier_hf_distilbert.h5', \n",
    "                                       custom_objects={\"TFDistilBertModel\": transformers.TFDistilBertModel})\n",
    "    model_checkpoint = \"distilbert-base-uncased\"\n",
    "    tokenizer = DistilBertTokenizerFast.from_pretrained(model_checkpoint)\n",
    "    # removing layers after average layer to get embeddings as output\n",
    "    top = model.get_layer('average').output\n",
    "    model = Model(inputs=model.input, outputs=top)\n",
    "    return tokenizer, model"
   ]
  },
  {
   "cell_type": "code",
   "execution_count": 4,
   "id": "7bb80b3c-e120-4e97-ab97-9c6cf061f476",
   "metadata": {
    "tags": []
   },
   "outputs": [],
   "source": [
    "def get_sentence_embeddings(txt, tokenizer, model):\n",
    "    txt = text_preprocessor.preprocess(pd.Series(txt))[0]\n",
    "    # loading DistilBERT model fine-tuned on DBPedia data\n",
    "    txt = tf.data.Dataset.from_tensor_slices((dict(tokenizer([txt], \n",
    "                                                 max_length=200, padding=\"max_length\", \n",
    "                                                 truncation=True, return_tensors=\"tf\"))))\n",
    "    embedding = model.predict(txt, verbose=0)[0]\n",
    "    return embedding"
   ]
  },
  {
   "cell_type": "code",
   "execution_count": 5,
   "id": "56a424c4-8a73-459f-9221-71b48c9258bc",
   "metadata": {
    "tags": []
   },
   "outputs": [],
   "source": [
    "def get_similarity_score(txt1, txt2, tokenizer, model):\n",
    "    emb1 = get_sentence_embeddings(txt1, tokenizer, model)\n",
    "    emb2 = get_sentence_embeddings(txt2, tokenizer, model)\n",
    "    \n",
    "    cos_sim = np.dot(emb1, emb2) / (norm(emb1) * norm(emb2))\n",
    "    print(f\"Text 1:\\n{txt1}\\n\\nText 2:\\n{txt2}\\n\\nCosine similarity score: {cos_sim}\")\n",
    "    return cos_sim"
   ]
  },
  {
   "cell_type": "code",
   "execution_count": 6,
   "id": "54041ad8-9341-4e05-9772-a38ff7d00fff",
   "metadata": {
    "tags": []
   },
   "outputs": [],
   "source": [
    "text_preprocessor = TextPreprocessor()\n",
    "tokenizer, model = get_tokenizer_model()"
   ]
  },
  {
   "cell_type": "code",
   "execution_count": 7,
   "id": "9f442363-fa22-4957-a29b-f729f0b4d7cb",
   "metadata": {
    "tags": []
   },
   "outputs": [
    {
     "name": "stdout",
     "output_type": "stream",
     "text": [
      "Model: \"model\"\n",
      "__________________________________________________________________________________________________\n",
      " Layer (type)                Output Shape                 Param #   Connected to                  \n",
      "==================================================================================================\n",
      " input_ids (InputLayer)      [(None, 200)]                0         []                            \n",
      "                                                                                                  \n",
      " attention_mask (InputLayer  [(None, 200)]                0         []                            \n",
      " )                                                                                                \n",
      "                                                                                                  \n",
      " tf_distil_bert_model (TFDi  TFBaseModelOutput(last_hid   6636288   ['input_ids[0][0]',           \n",
      " stilBertModel)              den_state=(None, 200, 768)   0          'attention_mask[0][0]']      \n",
      "                             , hidden_states=((None, 20                                           \n",
      "                             0, 768),                                                             \n",
      "                              (None, 200, 768),                                                   \n",
      "                              (None, 200, 768),                                                   \n",
      "                              (None, 200, 768),                                                   \n",
      "                              (None, 200, 768),                                                   \n",
      "                              (None, 200, 768),                                                   \n",
      "                              (None, 200, 768)),                                                  \n",
      "                              attentions=None)                                                    \n",
      "                                                                                                  \n",
      " tf.__operators__.getitem (  (None, 768)                  0         ['tf_distil_bert_model[0][6]']\n",
      " SlicingOpLambda)                                                                                 \n",
      "                                                                                                  \n",
      " tf.__operators__.getitem_1  (None, 768)                  0         ['tf_distil_bert_model[0][5]']\n",
      "  (SlicingOpLambda)                                                                               \n",
      "                                                                                                  \n",
      " average (Average)           (None, 768)                  0         ['tf.__operators__.getitem[0][\n",
      "                                                                    0]',                          \n",
      "                                                                     'tf.__operators__.getitem_1[0\n",
      "                                                                    ][0]']                        \n",
      "                                                                                                  \n",
      "==================================================================================================\n",
      "Total params: 66362880 (253.15 MB)\n",
      "Trainable params: 66362880 (253.15 MB)\n",
      "Non-trainable params: 0 (0.00 Byte)\n",
      "__________________________________________________________________________________________________\n"
     ]
    }
   ],
   "source": [
    "model.summary()"
   ]
  },
  {
   "cell_type": "code",
   "execution_count": 8,
   "id": "6e46af8a-c348-4e07-999c-1de57a75665a",
   "metadata": {
    "tags": []
   },
   "outputs": [
    {
     "name": "stdout",
     "output_type": "stream",
     "text": [
      "Text 1:\n",
      "\n",
      "Microsoft Corporation is an American multinational technology corporation headquartered in Redmond, Washington. Microsoft's best-known software products are the Windows line of operating systems, the Microsoft 365 suite of productivity applications, and the Edge web browser. Its flagship hardware products are the Xbox video game consoles and the Microsoft Surface lineup of touchscreen personal computers. Microsoft ranked No. 14 in the 2022 Fortune 500 rankings of the largest United States corporations by total revenue;[2] it was the world's largest software maker by revenue as of 2022. It is considered one of the Big Five American information technology companies, alongside Alphabet (parent company of Google), Amazon, Apple, and Meta Platforms.\n",
      "\n",
      "Text 2:\n",
      "\n",
      "Google LLC (/ˈɡuːɡəl/ ⓘ) is an American multinational technology company focusing on artificial intelligence,[9] online advertising, search engine technology, cloud computing, computer software, quantum computing, e-commerce, and consumer electronics. It has been referred to as \"the most powerful company in the world\"[10] and as one of the world's most valuable brands due to its market dominance, data collection, and technological advantages in the field of artificial intelligence.[11][12][13] Alongside Amazon, Apple Inc., Meta Platforms, and Microsoft, Google's parent company Alphabet Inc. is one of the five Big Tech companies.\n",
      "\n",
      "\n",
      "Cosine similarity score: 0.936648428440094\n"
     ]
    }
   ],
   "source": [
    "txt1 = '''\n",
    "Microsoft Corporation is an American multinational technology corporation headquartered in Redmond, Washington. Microsoft's best-known software products are the Windows line of operating systems, the Microsoft 365 suite of productivity applications, and the Edge web browser. Its flagship hardware products are the Xbox video game consoles and the Microsoft Surface lineup of touchscreen personal computers. Microsoft ranked No. 14 in the 2022 Fortune 500 rankings of the largest United States corporations by total revenue;[2] it was the world's largest software maker by revenue as of 2022. It is considered one of the Big Five American information technology companies, alongside Alphabet (parent company of Google), Amazon, Apple, and Meta Platforms.'''\n",
    "\n",
    "txt2 = '''\n",
    "Google LLC (/ˈɡuːɡəl/ ⓘ) is an American multinational technology company focusing on artificial intelligence,[9] online advertising, search engine technology, cloud computing, computer software, quantum computing, e-commerce, and consumer electronics. It has been referred to as \"the most powerful company in the world\"[10] and as one of the world's most valuable brands due to its market dominance, data collection, and technological advantages in the field of artificial intelligence.[11][12][13] Alongside Amazon, Apple Inc., Meta Platforms, and Microsoft, Google's parent company Alphabet Inc. is one of the five Big Tech companies.\n",
    "'''\n",
    "\n",
    "_ = get_similarity_score(txt1, txt2, tokenizer, model)"
   ]
  },
  {
   "cell_type": "code",
   "execution_count": 9,
   "id": "078554c3-d146-4486-a4cf-05f4ff707b6b",
   "metadata": {
    "tags": []
   },
   "outputs": [
    {
     "name": "stdout",
     "output_type": "stream",
     "text": [
      "Text 1:\n",
      "\n",
      "Microsoft Corporation is an American multinational technology corporation headquartered in Redmond, Washington. Microsoft's best-known software products are the Windows line of operating systems, the Microsoft 365 suite of productivity applications, and the Edge web browser. Its flagship hardware products are the Xbox video game consoles and the Microsoft Surface lineup of touchscreen personal computers. Microsoft ranked No. 14 in the 2022 Fortune 500 rankings of the largest United States corporations by total revenue;[2] it was the world's largest software maker by revenue as of 2022. It is considered one of the Big Five American information technology companies, alongside Alphabet (parent company of Google), Amazon, Apple, and Meta Platforms.\n",
      "\n",
      "Text 2:\n",
      "\n",
      "Joseph Robinette Biden Jr. (/ˈbaɪdən/ ⓘ BY-dən; born November 20, 1942) is an American politician who is the 46th and current president of the United States. Ideologically a moderate member of the Democratic Party, he previously served as the 47th vice president from 2009 to 2017 under President Barack Obama and represented Delaware in the United States Senate from 1973 to 2009.\n",
      "\n",
      "\n",
      "Cosine similarity score: 0.10077080130577087\n"
     ]
    }
   ],
   "source": [
    "txt1 = '''\n",
    "Microsoft Corporation is an American multinational technology corporation headquartered in Redmond, Washington. Microsoft's best-known software products are the Windows line of operating systems, the Microsoft 365 suite of productivity applications, and the Edge web browser. Its flagship hardware products are the Xbox video game consoles and the Microsoft Surface lineup of touchscreen personal computers. Microsoft ranked No. 14 in the 2022 Fortune 500 rankings of the largest United States corporations by total revenue;[2] it was the world's largest software maker by revenue as of 2022. It is considered one of the Big Five American information technology companies, alongside Alphabet (parent company of Google), Amazon, Apple, and Meta Platforms.'''\n",
    "\n",
    "txt2 = '''\n",
    "Joseph Robinette Biden Jr. (/ˈbaɪdən/ ⓘ BY-dən; born November 20, 1942) is an American politician who is the 46th and current president of the United States. Ideologically a moderate member of the Democratic Party, he previously served as the 47th vice president from 2009 to 2017 under President Barack Obama and represented Delaware in the United States Senate from 1973 to 2009.\n",
    "'''\n",
    "\n",
    "_ = get_similarity_score(txt1, txt2, tokenizer, model)"
   ]
  },
  {
   "cell_type": "code",
   "execution_count": 10,
   "id": "ab020843-f6de-452b-97ee-7de27dee4fdd",
   "metadata": {
    "tags": []
   },
   "outputs": [
    {
     "name": "stdout",
     "output_type": "stream",
     "text": [
      "Text 1:\n",
      "\n",
      "Vladimir Vladimirovich Putin[c] (born 7 October 1952) is a Russian politician and former intelligence officer who has been President of Russia since 2012. Putin has held continuous positions as president or prime minister since 1999:[d] as prime minister from 1999 to 2000 and from 2008 to 2012, and as president from 2000 to 2008 and since 2012.[e][7]\n",
      "\n",
      "Text 2:\n",
      "\n",
      "Joseph Robinette Biden Jr. (/ˈbaɪdən/ ⓘ BY-dən; born November 20, 1942) is an American politician who is the 46th and current president of the United States. Ideologically a moderate member of the Democratic Party, he previously served as the 47th vice president from 2009 to 2017 under President Barack Obama and represented Delaware in the United States Senate from 1973 to 2009.\n",
      "\n",
      "\n",
      "Cosine similarity score: 0.9945241212844849\n"
     ]
    }
   ],
   "source": [
    "txt1 = '''\n",
    "Vladimir Vladimirovich Putin[c] (born 7 October 1952) is a Russian politician and former intelligence officer who has been President of Russia since 2012. Putin has held continuous positions as president or prime minister since 1999:[d] as prime minister from 1999 to 2000 and from 2008 to 2012, and as president from 2000 to 2008 and since 2012.[e][7]'''\n",
    "\n",
    "txt2 = '''\n",
    "Joseph Robinette Biden Jr. (/ˈbaɪdən/ ⓘ BY-dən; born November 20, 1942) is an American politician who is the 46th and current president of the United States. Ideologically a moderate member of the Democratic Party, he previously served as the 47th vice president from 2009 to 2017 under President Barack Obama and represented Delaware in the United States Senate from 1973 to 2009.\n",
    "'''\n",
    "\n",
    "_ = get_similarity_score(txt1, txt2, tokenizer, model)"
   ]
  },
  {
   "cell_type": "code",
   "execution_count": 11,
   "id": "fc00dc32-04da-4b80-bf02-28d47d70cc30",
   "metadata": {
    "tags": []
   },
   "outputs": [
    {
     "name": "stdout",
     "output_type": "stream",
     "text": [
      "Text 1:\n",
      "\n",
      "The British Broadcasting Corporation (BBC) is a British public service broadcaster headquartered at the Broadcasting House in London, originally established in 1922 as the British Broadcasting Company and evolved into its current state with its current name on New Year's Day 1927. The oldest and largest local and global broadcaster by stature and by number of employees, it employs over 21,000 staff in total, of whom approximately 17,900 are in public-sector broadcasting.[1][2][3][4][5]\n",
      "\n",
      "Text 2:\n",
      "\n",
      "Cognizant is an American multinational information technology services and consulting company. It is headquartered in Teaneck, New Jersey, U.S. Cognizant is part of the NASDAQ-100 and trades under CTSH. It was founded as an in-house technology unit of Dun & Bradstreet in 1994,[6] and started serving external clients in 1996.[6]\n",
      "\n",
      "After a series of corporate re-organizations, there was an initial public offering in 1998.[7]\n",
      "\n",
      "Cognizant had a period of fast growth during the 2000s and became a Fortune 500 company in 2011; as of 2021, it is ranked 185.[8]\n",
      "\n",
      "\n",
      "Cosine similarity score: 0.40139180421829224\n"
     ]
    }
   ],
   "source": [
    "txt1 = '''\n",
    "The British Broadcasting Corporation (BBC) is a British public service broadcaster headquartered at the Broadcasting House in London, originally established in 1922 as the British Broadcasting Company and evolved into its current state with its current name on New Year's Day 1927. The oldest and largest local and global broadcaster by stature and by number of employees, it employs over 21,000 staff in total, of whom approximately 17,900 are in public-sector broadcasting.[1][2][3][4][5]'''\n",
    "\n",
    "txt2 = '''\n",
    "Cognizant is an American multinational information technology services and consulting company. It is headquartered in Teaneck, New Jersey, U.S. Cognizant is part of the NASDAQ-100 and trades under CTSH. It was founded as an in-house technology unit of Dun & Bradstreet in 1994,[6] and started serving external clients in 1996.[6]\n",
    "\n",
    "After a series of corporate re-organizations, there was an initial public offering in 1998.[7]\n",
    "\n",
    "Cognizant had a period of fast growth during the 2000s and became a Fortune 500 company in 2011; as of 2021, it is ranked 185.[8]\n",
    "'''\n",
    "\n",
    "_ = get_similarity_score(txt1, txt2, tokenizer, model)"
   ]
  },
  {
   "cell_type": "code",
   "execution_count": 12,
   "id": "8dc2bff5-7bc4-441c-b3c1-ba4e21355647",
   "metadata": {
    "tags": []
   },
   "outputs": [
    {
     "name": "stdout",
     "output_type": "stream",
     "text": [
      "Text 1:\n",
      "\n",
      "The British Broadcasting Corporation (BBC) is a British public service broadcaster headquartered at the Broadcasting House in London, originally established in 1922 as the British Broadcasting Company and evolved into its current state with its current name on New Year's Day 1927. The oldest and largest local and global broadcaster by stature and by number of employees, it employs over 21,000 staff in total, of whom approximately 17,900 are in public-sector broadcasting.[1][2][3][4][5]\n",
      "\n",
      "Text 2:\n",
      "\n",
      "The Cable News Network (CNN) is a multinational news channel and website headquartered in Atlanta, Georgia, U.S.[2][3][4] Founded in 1980 by American media proprietor Ted Turner and Reese Schonfeld as a 24-hour cable news channel, and presently owned by the Manhattan-based media conglomerate Warner Bros. Discovery (WBD),[5] CNN was the first television channel to provide 24-hour news coverage and the first all-news television channel in the United States.[6][7][8][9][10]\n",
      "\n",
      "Cosine similarity score: 0.99819016456604\n"
     ]
    }
   ],
   "source": [
    "txt1 = '''\n",
    "The British Broadcasting Corporation (BBC) is a British public service broadcaster headquartered at the Broadcasting House in London, originally established in 1922 as the British Broadcasting Company and evolved into its current state with its current name on New Year's Day 1927. The oldest and largest local and global broadcaster by stature and by number of employees, it employs over 21,000 staff in total, of whom approximately 17,900 are in public-sector broadcasting.[1][2][3][4][5]'''\n",
    "\n",
    "txt2 = '''\n",
    "The Cable News Network (CNN) is a multinational news channel and website headquartered in Atlanta, Georgia, U.S.[2][3][4] Founded in 1980 by American media proprietor Ted Turner and Reese Schonfeld as a 24-hour cable news channel, and presently owned by the Manhattan-based media conglomerate Warner Bros. Discovery (WBD),[5] CNN was the first television channel to provide 24-hour news coverage and the first all-news television channel in the United States.[6][7][8][9][10]'''\n",
    "\n",
    "_ = get_similarity_score(txt1, txt2, tokenizer, model)"
   ]
  },
  {
   "cell_type": "code",
   "execution_count": 13,
   "id": "3c22ebd8-1313-46b6-81b0-94f6794342f8",
   "metadata": {
    "tags": []
   },
   "outputs": [
    {
     "name": "stdout",
     "output_type": "stream",
     "text": [
      "Text 1:\n",
      "\n",
      "Morgan Freeman[2] (born June 1, 1937) is an American actor and producer. He is known for his distinctive deep voice and various roles in a wide variety of film genres. Throughout his career spanning over five decades, he has received numerous accolades, including an Academy Award, a Screen Actors Guild Award, and a Golden Globe Award. He is the recipient of the Kennedy Center Honor in 2008, the AFI Life Achievement Award in 2011, the Cecil B. DeMille Award in 2012, and the Screen Actors Guild Life Achievement Award in 2018.\n",
      "\n",
      "\n",
      "Text 2:\n",
      "\n",
      "William Henry Gates III (born October 28, 1955) is an American business magnate, investor, philanthropist, and writer best known for co-founding the software giant Microsoft, along with his childhood friend Paul Allen.[2][3] During his career at Microsoft, Gates held the positions of chairman, chief executive officer (CEO), president, and chief software architect, while also being its largest individual shareholder until May 2014.[4] He was a major entrepreneur of the microcomputer revolution of the 1970s and 1980s.\n",
      "\n",
      "\n",
      "Cosine similarity score: 0.2557993531227112\n"
     ]
    }
   ],
   "source": [
    "txt1 = '''\n",
    "Morgan Freeman[2] (born June 1, 1937) is an American actor and producer. He is known for his distinctive deep voice and various roles in a wide variety of film genres. Throughout his career spanning over five decades, he has received numerous accolades, including an Academy Award, a Screen Actors Guild Award, and a Golden Globe Award. He is the recipient of the Kennedy Center Honor in 2008, the AFI Life Achievement Award in 2011, the Cecil B. DeMille Award in 2012, and the Screen Actors Guild Life Achievement Award in 2018.\n",
    "'''\n",
    "\n",
    "txt2 = '''\n",
    "William Henry Gates III (born October 28, 1955) is an American business magnate, investor, philanthropist, and writer best known for co-founding the software giant Microsoft, along with his childhood friend Paul Allen.[2][3] During his career at Microsoft, Gates held the positions of chairman, chief executive officer (CEO), president, and chief software architect, while also being its largest individual shareholder until May 2014.[4] He was a major entrepreneur of the microcomputer revolution of the 1970s and 1980s.\n",
    "'''\n",
    "\n",
    "_ = get_similarity_score(txt1, txt2, tokenizer, model)"
   ]
  },
  {
   "cell_type": "code",
   "execution_count": 14,
   "id": "f0d5f47f-a985-4370-aaea-0771e97eaba7",
   "metadata": {
    "tags": []
   },
   "outputs": [
    {
     "name": "stdout",
     "output_type": "stream",
     "text": [
      "Text 1:\n",
      "\n",
      "Abdul Rashid Salim Salman Khan (pronounced [səlˈmɑːn xɑːn]; born 27 December 1965)[3] is an Indian actor, film producer, and television personality who works predominantly in Hindi films. In a career spanning over three decades, Khan has received numerous awards, including two National Film Awards as a film producer, and two Filmfare Awards as an actor.[4] He is cited in the media as one of the most commercially successful actors of Indian cinema.[5][6] Forbes has included Khan in listings of the highest-paid celebrities in the world, in 2015 and 2018, with him being the highest-ranked Indian in the latter year.[7][8][9][10]\n",
      "\n",
      "\n",
      "Text 2:\n",
      "\n",
      "Shah Rukh Khan (pronounced [ˈʃɑːɦɾʊx xɑːn]; born 2 November 1965), also known by the initialism SRK, is an Indian actor and film producer who works in Hindi films. Referred to in the media as the \"Baadshah of Bollywood\" and \"King Khan\",[a] he has appeared in more than 90 films, and earned numerous accolades, including 14 Filmfare Awards. He has been awarded the Padma Shri by the Government of India, as well as the Ordre des Arts et des Lettres and Legion of Honour by the Government of France. Khan has a significant following in Asia and the Indian diaspora worldwide. In terms of audience size and income, several media outlets have described him as one of the most successful film stars in the world.[b] Many of his films thematise Indian national identity and connections with diaspora communities, or gender, racial, social and religious differences and grievances.\n",
      "\n",
      "\n",
      "Cosine similarity score: 0.9556682705879211\n"
     ]
    }
   ],
   "source": [
    "txt1 = '''\n",
    "Abdul Rashid Salim Salman Khan (pronounced [səlˈmɑːn xɑːn]; born 27 December 1965)[3] is an Indian actor, film producer, and television personality who works predominantly in Hindi films. In a career spanning over three decades, Khan has received numerous awards, including two National Film Awards as a film producer, and two Filmfare Awards as an actor.[4] He is cited in the media as one of the most commercially successful actors of Indian cinema.[5][6] Forbes has included Khan in listings of the highest-paid celebrities in the world, in 2015 and 2018, with him being the highest-ranked Indian in the latter year.[7][8][9][10]\n",
    "'''\n",
    "\n",
    "txt2 = '''\n",
    "Shah Rukh Khan (pronounced [ˈʃɑːɦɾʊx xɑːn]; born 2 November 1965), also known by the initialism SRK, is an Indian actor and film producer who works in Hindi films. Referred to in the media as the \"Baadshah of Bollywood\" and \"King Khan\",[a] he has appeared in more than 90 films, and earned numerous accolades, including 14 Filmfare Awards. He has been awarded the Padma Shri by the Government of India, as well as the Ordre des Arts et des Lettres and Legion of Honour by the Government of France. Khan has a significant following in Asia and the Indian diaspora worldwide. In terms of audience size and income, several media outlets have described him as one of the most successful film stars in the world.[b] Many of his films thematise Indian national identity and connections with diaspora communities, or gender, racial, social and religious differences and grievances.\n",
    "'''\n",
    "\n",
    "_ = get_similarity_score(txt1, txt2, tokenizer, model)"
   ]
  },
  {
   "cell_type": "code",
   "execution_count": 15,
   "id": "f95ff420-1b5f-4c7e-8556-2475803e1c51",
   "metadata": {
    "tags": []
   },
   "outputs": [
    {
     "name": "stdout",
     "output_type": "stream",
     "text": [
      "Text 1:\n",
      "\n",
      "Mark Elliot Zuckerberg (/ˈzʌkərbɜːrɡ/; born May 14, 1984) is an American business magnate, computer programmer, internet entrepreneur, and philanthropist. He co-founded the social media service Facebook and its parent company Meta Platforms (formerly Facebook, Inc.), of which he is executive chairman, chief executive officer and controlling shareholder.[1][2]\n",
      "\n",
      "Zuckerberg attended Harvard University, where he launched Facebook in February 2004 with his roommates Eduardo Saverin, Andrew McCollum, Dustin Moskovitz and Chris Hughes. Originally launched in only select college campuses, the site expanded rapidly and eventually beyond colleges, reaching one billion users in 2012. Zuckerberg took the company public in May 2012 with majority shares. In 2007, at age 23, he became the world's youngest self-made billionaire. He has since used his funds to organize multiple philanthropic endeavors, including the establishment of the Chan Zuckerberg Initiative.\n",
      "\n",
      "\n",
      "Text 2:\n",
      "\n",
      "William Henry Gates III (born October 28, 1955) is an American business magnate, investor, philanthropist, and writer best known for co-founding the software giant Microsoft, along with his childhood friend Paul Allen.[2][3] During his career at Microsoft, Gates held the positions of chairman, chief executive officer (CEO), president, and chief software architect, while also being its largest individual shareholder until May 2014.[4] He was a major entrepreneur of the microcomputer revolution of the 1970s and 1980s.\n",
      "\n",
      "\n",
      "Cosine similarity score: 0.9931350350379944\n"
     ]
    }
   ],
   "source": [
    "txt1 = '''\n",
    "Mark Elliot Zuckerberg (/ˈzʌkərbɜːrɡ/; born May 14, 1984) is an American business magnate, computer programmer, internet entrepreneur, and philanthropist. He co-founded the social media service Facebook and its parent company Meta Platforms (formerly Facebook, Inc.), of which he is executive chairman, chief executive officer and controlling shareholder.[1][2]\n",
    "\n",
    "Zuckerberg attended Harvard University, where he launched Facebook in February 2004 with his roommates Eduardo Saverin, Andrew McCollum, Dustin Moskovitz and Chris Hughes. Originally launched in only select college campuses, the site expanded rapidly and eventually beyond colleges, reaching one billion users in 2012. Zuckerberg took the company public in May 2012 with majority shares. In 2007, at age 23, he became the world's youngest self-made billionaire. He has since used his funds to organize multiple philanthropic endeavors, including the establishment of the Chan Zuckerberg Initiative.\n",
    "'''\n",
    "\n",
    "txt2 = '''\n",
    "William Henry Gates III (born October 28, 1955) is an American business magnate, investor, philanthropist, and writer best known for co-founding the software giant Microsoft, along with his childhood friend Paul Allen.[2][3] During his career at Microsoft, Gates held the positions of chairman, chief executive officer (CEO), president, and chief software architect, while also being its largest individual shareholder until May 2014.[4] He was a major entrepreneur of the microcomputer revolution of the 1970s and 1980s.\n",
    "'''\n",
    "\n",
    "_ = get_similarity_score(txt1, txt2, tokenizer, model)"
   ]
  }
 ],
 "metadata": {
  "kernelspec": {
   "display_name": "Python 3 (ipykernel)",
   "language": "python",
   "name": "python3"
  },
  "language_info": {
   "codemirror_mode": {
    "name": "ipython",
    "version": 3
   },
   "file_extension": ".py",
   "mimetype": "text/x-python",
   "name": "python",
   "nbconvert_exporter": "python",
   "pygments_lexer": "ipython3",
   "version": "3.11.4"
  }
 },
 "nbformat": 4,
 "nbformat_minor": 5
}
