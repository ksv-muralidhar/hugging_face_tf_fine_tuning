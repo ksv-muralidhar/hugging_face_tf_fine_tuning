{
 "cells": [
  {
   "cell_type": "code",
   "execution_count": 1,
   "id": "19fc816f",
   "metadata": {},
   "outputs": [],
   "source": [
    "import tensorflow as tf\n",
    "from transformers import DistilBertTokenizerFast, TFDistilBertModel\n",
    "import warnings\n",
    "warnings.filterwarnings('ignore')\n",
    "from transformers import logging\n",
    "logging.set_verbosity_error()"
   ]
  },
  {
   "cell_type": "code",
   "execution_count": 2,
   "id": "f31ba443",
   "metadata": {},
   "outputs": [],
   "source": [
    "# Corpus\n",
    "s = ['Hello world', 'hello World']"
   ]
  },
  {
   "cell_type": "code",
   "execution_count": 3,
   "id": "a00f6fdf",
   "metadata": {},
   "outputs": [],
   "source": [
    "checkpoint = 'distilbert-base-uncased'\n",
    "tokenizer = DistilBertTokenizerFast.from_pretrained(checkpoint)"
   ]
  },
  {
   "cell_type": "code",
   "execution_count": 4,
   "id": "fce5fbf9",
   "metadata": {},
   "outputs": [],
   "source": [
    "n_tokens = 10"
   ]
  },
  {
   "cell_type": "code",
   "execution_count": 5,
   "id": "f86dccfc",
   "metadata": {},
   "outputs": [],
   "source": [
    "tokens = tokenizer(s, \n",
    "                   max_length=n_tokens, \n",
    "                   padding=\"max_length\", \n",
    "                   truncation=True, \n",
    "                   return_attention_mask=True, \n",
    "                   return_tensors='tf')"
   ]
  },
  {
   "cell_type": "code",
   "execution_count": 6,
   "id": "b5eb1fe4",
   "metadata": {},
   "outputs": [
    {
     "data": {
      "text/plain": [
       "{'input_ids': <tf.Tensor: shape=(2, 10), dtype=int32, numpy=\n",
       "array([[ 101, 7592, 2088,  102,    0,    0,    0,    0,    0,    0],\n",
       "       [ 101, 7592, 2088,  102,    0,    0,    0,    0,    0,    0]])>, 'attention_mask': <tf.Tensor: shape=(2, 10), dtype=int32, numpy=\n",
       "array([[1, 1, 1, 1, 0, 0, 0, 0, 0, 0],\n",
       "       [1, 1, 1, 1, 0, 0, 0, 0, 0, 0]])>}"
      ]
     },
     "execution_count": 6,
     "metadata": {},
     "output_type": "execute_result"
    }
   ],
   "source": [
    "tokens"
   ]
  },
  {
   "cell_type": "code",
   "execution_count": 7,
   "id": "22692f37",
   "metadata": {},
   "outputs": [],
   "source": [
    "model = TFDistilBertModel.from_pretrained(checkpoint, output_hidden_states=True)"
   ]
  },
  {
   "cell_type": "code",
   "execution_count": 8,
   "id": "41563398",
   "metadata": {},
   "outputs": [],
   "source": [
    "# Get Model embeddings\n",
    "model_output = model(input_ids=tokens['input_ids'], attention_mask=tokens['attention_mask'])"
   ]
  },
  {
   "cell_type": "code",
   "execution_count": 9,
   "id": "e31ac12d",
   "metadata": {},
   "outputs": [
    {
     "data": {
      "text/plain": [
       "TFBaseModelOutput(last_hidden_state=<tf.Tensor: shape=(2, 10, 768), dtype=float32, numpy=\n",
       "array([[[-0.16980135, -0.16616774,  0.02564099, ..., -0.12552133,\n",
       "          0.17291942,  0.4330536 ],\n",
       "        [-0.42125538,  0.17608328,  0.49991077, ..., -0.1428831 ,\n",
       "          0.6527468 ,  0.4612236 ],\n",
       "        [-0.21821067, -0.22477578,  0.40346316, ...,  0.08059662,\n",
       "          0.19904637,  0.00151423],\n",
       "        ...,\n",
       "        [-0.16411218, -0.30850208,  0.1660112 , ...,  0.22800869,\n",
       "         -0.07948929,  0.25606138],\n",
       "        [-0.21185686, -0.31004387,  0.15777205, ...,  0.23552594,\n",
       "         -0.05401385,  0.2552799 ],\n",
       "        [-0.24953173, -0.25728527,  0.18696974, ...,  0.15722668,\n",
       "          0.03211151,  0.30800217]],\n",
       "\n",
       "       [[-0.16980135, -0.16616774,  0.02564099, ..., -0.12552133,\n",
       "          0.17291942,  0.4330536 ],\n",
       "        [-0.42125538,  0.17608328,  0.49991077, ..., -0.1428831 ,\n",
       "          0.6527468 ,  0.4612236 ],\n",
       "        [-0.21821067, -0.22477578,  0.40346316, ...,  0.08059662,\n",
       "          0.19904637,  0.00151423],\n",
       "        ...,\n",
       "        [-0.16411218, -0.30850208,  0.1660112 , ...,  0.22800869,\n",
       "         -0.07948929,  0.25606138],\n",
       "        [-0.21185705, -0.31004405,  0.15777211, ...,  0.23552573,\n",
       "         -0.05401396,  0.25527972],\n",
       "        [-0.24953145, -0.2572849 ,  0.18697011, ...,  0.15722644,\n",
       "          0.03211166,  0.30800214]]], dtype=float32)>, hidden_states=(<tf.Tensor: shape=(2, 10, 768), dtype=float32, numpy=\n",
       "array([[[ 0.3469352 , -0.16263762, -0.23334563, ...,  0.14869013,\n",
       "          0.08653455,  0.14215373],\n",
       "        [ 0.07189059, -0.07270843, -0.29645342, ..., -0.30408904,\n",
       "          0.75935036, -0.5568752 ],\n",
       "        [ 0.64337444,  1.1521522 ,  0.4642932 , ..., -0.28947556,\n",
       "          0.39011478, -0.3785314 ],\n",
       "        ...,\n",
       "        [ 0.24618459, -0.90792716,  0.11524823, ...,  0.07064979,\n",
       "         -0.1675663 , -0.02772722],\n",
       "        [ 0.265827  , -0.8641032 ,  0.00512287, ...,  0.19382347,\n",
       "         -0.25876486,  0.00693533],\n",
       "        [ 0.3477962 , -0.67617995, -0.02456459, ...,  0.34671244,\n",
       "         -0.45518315,  0.02331778]],\n",
       "\n",
       "       [[ 0.3469352 , -0.16263762, -0.23334563, ...,  0.14869013,\n",
       "          0.08653455,  0.14215373],\n",
       "        [ 0.07189059, -0.07270843, -0.29645342, ..., -0.30408904,\n",
       "          0.75935036, -0.5568752 ],\n",
       "        [ 0.64337444,  1.1521522 ,  0.4642932 , ..., -0.28947556,\n",
       "          0.39011478, -0.3785314 ],\n",
       "        ...,\n",
       "        [ 0.24618459, -0.90792716,  0.11524823, ...,  0.07064979,\n",
       "         -0.1675663 , -0.02772722],\n",
       "        [ 0.265827  , -0.8641032 ,  0.00512287, ...,  0.19382347,\n",
       "         -0.25876486,  0.00693533],\n",
       "        [ 0.3477962 , -0.67617995, -0.02456459, ...,  0.34671244,\n",
       "         -0.45518315,  0.02331778]]], dtype=float32)>, <tf.Tensor: shape=(2, 10, 768), dtype=float32, numpy=\n",
       "array([[[ 0.1224121 , -0.02921927,  0.12268272, ...,  0.07836653,\n",
       "         -0.03383195, -0.03694988],\n",
       "        [ 0.2622649 ,  0.5937357 ,  0.8205921 , ..., -0.38553643,\n",
       "          0.30847818, -0.07307188],\n",
       "        [ 0.577691  ,  0.6434966 ,  0.45028958, ..., -0.54835844,\n",
       "         -0.13577613, -0.33544898],\n",
       "        ...,\n",
       "        [ 0.21889657, -0.34801504,  0.5780095 , ...,  0.0206658 ,\n",
       "         -0.0688477 , -0.19473435],\n",
       "        [ 0.23416045, -0.32688043,  0.523144  , ...,  0.07495841,\n",
       "         -0.12651192, -0.17399493],\n",
       "        [ 0.25140423, -0.21328492,  0.50248814, ...,  0.18252301,\n",
       "         -0.18096773, -0.13837264]],\n",
       "\n",
       "       [[ 0.1224121 , -0.02921927,  0.12268272, ...,  0.07836653,\n",
       "         -0.03383195, -0.03694988],\n",
       "        [ 0.2622649 ,  0.5937357 ,  0.8205921 , ..., -0.38553643,\n",
       "          0.30847818, -0.07307188],\n",
       "        [ 0.577691  ,  0.6434966 ,  0.45028958, ..., -0.54835844,\n",
       "         -0.13577613, -0.33544898],\n",
       "        ...,\n",
       "        [ 0.21889657, -0.34801504,  0.5780095 , ...,  0.0206658 ,\n",
       "         -0.0688477 , -0.19473435],\n",
       "        [ 0.23416051, -0.3268805 ,  0.523144  , ...,  0.0749585 ,\n",
       "         -0.12651184, -0.17399484],\n",
       "        [ 0.25140435, -0.21328492,  0.5024882 , ...,  0.18252291,\n",
       "         -0.1809677 , -0.13837263]]], dtype=float32)>, <tf.Tensor: shape=(2, 10, 768), dtype=float32, numpy=\n",
       "array([[[-0.01088545, -0.23241766,  0.22195207, ..., -0.19322075,\n",
       "          0.27272835,  0.07405025],\n",
       "        [ 0.35259968,  0.5588908 ,  0.8052687 , ...,  0.296626  ,\n",
       "          0.34303486, -0.3540256 ],\n",
       "        [ 0.34155822,  0.6530186 , -0.0625132 , ..., -0.9061338 ,\n",
       "          0.12658171, -0.54821587],\n",
       "        ...,\n",
       "        [-0.09953459, -0.42253488,  0.44991606, ..., -0.22943269,\n",
       "          0.2749893 , -0.26399228],\n",
       "        [-0.10796933, -0.40988144,  0.4054335 , ..., -0.18513507,\n",
       "          0.23599395, -0.2399816 ],\n",
       "        [ 0.10035758, -0.2987391 ,  0.44624907, ..., -0.1843528 ,\n",
       "          0.22171223, -0.18366632]],\n",
       "\n",
       "       [[-0.01088545, -0.23241766,  0.22195207, ..., -0.19322075,\n",
       "          0.27272835,  0.07405025],\n",
       "        [ 0.35259968,  0.5588908 ,  0.8052687 , ...,  0.296626  ,\n",
       "          0.34303486, -0.3540256 ],\n",
       "        [ 0.34155822,  0.6530186 , -0.0625132 , ..., -0.9061338 ,\n",
       "          0.12658171, -0.54821587],\n",
       "        ...,\n",
       "        [-0.09953459, -0.42253488,  0.44991606, ..., -0.22943269,\n",
       "          0.2749893 , -0.26399228],\n",
       "        [-0.1079695 , -0.40988138,  0.4054336 , ..., -0.18513504,\n",
       "          0.23599404, -0.23998149],\n",
       "        [ 0.10035759, -0.29873922,  0.44624928, ..., -0.18435256,\n",
       "          0.22171217, -0.18366626]]], dtype=float32)>, <tf.Tensor: shape=(2, 10, 768), dtype=float32, numpy=\n",
       "array([[[-0.08299686, -0.61393845,  0.02199021, ..., -0.68780583,\n",
       "          0.3728818 ,  0.2867656 ],\n",
       "        [ 0.20578244,  0.27459332,  0.73529345, ...,  0.46721438,\n",
       "          0.30870837, -0.14314967],\n",
       "        [ 0.5803252 ,  0.15992858, -0.04686502, ..., -1.0181671 ,\n",
       "          0.46121   , -0.48190752],\n",
       "        ...,\n",
       "        [ 0.04946281, -0.3758963 ,  0.0531952 , ..., -0.8943457 ,\n",
       "          0.2201574 , -0.04453613],\n",
       "        [-0.02069721, -0.3850353 ,  0.07317878, ..., -0.8294808 ,\n",
       "          0.18641835,  0.00640829],\n",
       "        [ 0.02945178, -0.37629575,  0.18215325, ..., -0.5169193 ,\n",
       "          0.33887306,  0.05364646]],\n",
       "\n",
       "       [[-0.08299686, -0.61393845,  0.02199021, ..., -0.68780583,\n",
       "          0.3728818 ,  0.2867656 ],\n",
       "        [ 0.20578244,  0.27459332,  0.73529345, ...,  0.46721438,\n",
       "          0.30870837, -0.14314967],\n",
       "        [ 0.5803252 ,  0.15992858, -0.04686502, ..., -1.0181671 ,\n",
       "          0.46121   , -0.48190752],\n",
       "        ...,\n",
       "        [ 0.04946281, -0.3758963 ,  0.0531952 , ..., -0.8943457 ,\n",
       "          0.2201574 , -0.04453613],\n",
       "        [-0.02069719, -0.38503546,  0.07317867, ..., -0.82948107,\n",
       "          0.18641861,  0.00640854],\n",
       "        [ 0.02945161, -0.37629592,  0.1821538 , ..., -0.5169193 ,\n",
       "          0.33887252,  0.05364663]]], dtype=float32)>, <tf.Tensor: shape=(2, 10, 768), dtype=float32, numpy=\n",
       "array([[[-0.30223027, -0.5468851 , -0.38858387, ..., -0.566273  ,\n",
       "          0.31462207,  0.61148447],\n",
       "        [ 0.08165848,  0.35500383,  0.75847495, ...,  0.1939865 ,\n",
       "          0.4375318 ,  0.15307696],\n",
       "        [ 0.20826975,  0.03681483,  0.21884404, ..., -0.30036265,\n",
       "          0.42666844, -0.49590847],\n",
       "        ...,\n",
       "        [ 0.04514224, -0.3245637 , -0.18558994, ..., -0.15828153,\n",
       "         -0.08757351,  0.01658031],\n",
       "        [-0.02783131, -0.35155678, -0.20163992, ..., -0.15443051,\n",
       "         -0.11263376,  0.05099101],\n",
       "        [-0.03329036, -0.32443106, -0.09240969, ..., -0.09645841,\n",
       "          0.1388489 ,  0.05601536]],\n",
       "\n",
       "       [[-0.30223027, -0.5468851 , -0.38858387, ..., -0.566273  ,\n",
       "          0.31462207,  0.61148447],\n",
       "        [ 0.08165848,  0.35500383,  0.75847495, ...,  0.1939865 ,\n",
       "          0.4375318 ,  0.15307696],\n",
       "        [ 0.20826975,  0.03681483,  0.21884404, ..., -0.30036265,\n",
       "          0.42666844, -0.49590847],\n",
       "        ...,\n",
       "        [ 0.04514224, -0.3245637 , -0.18558994, ..., -0.15828153,\n",
       "         -0.08757351,  0.01658031],\n",
       "        [-0.02783188, -0.35155717, -0.2016399 , ..., -0.1544306 ,\n",
       "         -0.11263383,  0.05099078],\n",
       "        [-0.03329052, -0.32443115, -0.0924091 , ..., -0.09645864,\n",
       "          0.13884877,  0.0560157 ]]], dtype=float32)>, <tf.Tensor: shape=(2, 10, 768), dtype=float32, numpy=\n",
       "array([[[-0.40224364, -0.49361926,  0.06752114, ..., -0.24373236,\n",
       "          0.32292843,  0.7427836 ],\n",
       "        [-0.22138911,  0.2824371 ,  0.52760273, ..., -0.31499612,\n",
       "          0.5931168 ,  0.2462172 ],\n",
       "        [-0.2487969 , -0.2518592 ,  0.15378559, ..., -0.12130605,\n",
       "          0.20826457, -0.08385145],\n",
       "        ...,\n",
       "        [-0.45026857, -0.28101116,  0.13310379, ...,  0.17266545,\n",
       "         -0.33675054,  0.21291435],\n",
       "        [-0.5507923 , -0.33266824,  0.13461684, ...,  0.18209955,\n",
       "         -0.34506217,  0.2562551 ],\n",
       "        [-0.46164483, -0.23492016,  0.16232765, ...,  0.09928967,\n",
       "         -0.05006243,  0.24823314]],\n",
       "\n",
       "       [[-0.40224364, -0.49361926,  0.06752114, ..., -0.24373236,\n",
       "          0.32292843,  0.7427836 ],\n",
       "        [-0.22138911,  0.2824371 ,  0.52760273, ..., -0.31499612,\n",
       "          0.5931168 ,  0.2462172 ],\n",
       "        [-0.2487969 , -0.2518592 ,  0.15378559, ..., -0.12130605,\n",
       "          0.20826457, -0.08385145],\n",
       "        ...,\n",
       "        [-0.45026857, -0.28101116,  0.13310379, ...,  0.17266545,\n",
       "         -0.33675054,  0.21291435],\n",
       "        [-0.5507932 , -0.33266857,  0.13461676, ...,  0.18209925,\n",
       "         -0.34506273,  0.25625497],\n",
       "        [-0.46164474, -0.23491997,  0.16232827, ...,  0.09928946,\n",
       "         -0.05006241,  0.24823305]]], dtype=float32)>, <tf.Tensor: shape=(2, 10, 768), dtype=float32, numpy=\n",
       "array([[[-0.16980135, -0.16616774,  0.02564099, ..., -0.12552133,\n",
       "          0.17291942,  0.4330536 ],\n",
       "        [-0.42125538,  0.17608328,  0.49991077, ..., -0.1428831 ,\n",
       "          0.6527468 ,  0.4612236 ],\n",
       "        [-0.21821067, -0.22477578,  0.40346316, ...,  0.08059662,\n",
       "          0.19904637,  0.00151423],\n",
       "        ...,\n",
       "        [-0.16411218, -0.30850208,  0.1660112 , ...,  0.22800869,\n",
       "         -0.07948929,  0.25606138],\n",
       "        [-0.21185686, -0.31004387,  0.15777205, ...,  0.23552594,\n",
       "         -0.05401385,  0.2552799 ],\n",
       "        [-0.24953173, -0.25728527,  0.18696974, ...,  0.15722668,\n",
       "          0.03211151,  0.30800217]],\n",
       "\n",
       "       [[-0.16980135, -0.16616774,  0.02564099, ..., -0.12552133,\n",
       "          0.17291942,  0.4330536 ],\n",
       "        [-0.42125538,  0.17608328,  0.49991077, ..., -0.1428831 ,\n",
       "          0.6527468 ,  0.4612236 ],\n",
       "        [-0.21821067, -0.22477578,  0.40346316, ...,  0.08059662,\n",
       "          0.19904637,  0.00151423],\n",
       "        ...,\n",
       "        [-0.16411218, -0.30850208,  0.1660112 , ...,  0.22800869,\n",
       "         -0.07948929,  0.25606138],\n",
       "        [-0.21185705, -0.31004405,  0.15777211, ...,  0.23552573,\n",
       "         -0.05401396,  0.25527972],\n",
       "        [-0.24953145, -0.2572849 ,  0.18697011, ...,  0.15722644,\n",
       "          0.03211166,  0.30800214]]], dtype=float32)>), attentions=None)"
      ]
     },
     "execution_count": 9,
     "metadata": {},
     "output_type": "execute_result"
    }
   ],
   "source": [
    "# Print model embeddings\n",
    "model_output"
   ]
  },
  {
   "cell_type": "code",
   "execution_count": 10,
   "id": "46e0f81a",
   "metadata": {},
   "outputs": [],
   "source": [
    "n_hidden_states = 3 # last n hidden states to consider\n",
    "hidden_states = None\n",
    "# constraining hidden states between 1 and 6. As DistilBERT has 6 hidden states\n",
    "n_hidden_states = 6 if n_hidden_states > 6 else n_hidden_states # return 6 if n_hidden_states > 6\n",
    "n_hidden_states = 1 if n_hidden_states < 1 else n_hidden_states # return 1 if n_hidden_states < 1\n",
    "use_only_cls_token = True # Use only [CLS] or compute mean of all the token embeddings in sentence "
   ]
  },
  {
   "cell_type": "code",
   "execution_count": 11,
   "id": "c7b64efb",
   "metadata": {},
   "outputs": [],
   "source": [
    "hidden_states = model_output[1][-n_hidden_states:] # Get last n hidden states"
   ]
  },
  {
   "cell_type": "code",
   "execution_count": 12,
   "id": "885d7133",
   "metadata": {},
   "outputs": [
    {
     "data": {
      "text/plain": [
       "(<tf.Tensor: shape=(2, 10, 768), dtype=float32, numpy=\n",
       " array([[[-0.30223027, -0.5468851 , -0.38858387, ..., -0.566273  ,\n",
       "           0.31462207,  0.61148447],\n",
       "         [ 0.08165848,  0.35500383,  0.75847495, ...,  0.1939865 ,\n",
       "           0.4375318 ,  0.15307696],\n",
       "         [ 0.20826975,  0.03681483,  0.21884404, ..., -0.30036265,\n",
       "           0.42666844, -0.49590847],\n",
       "         ...,\n",
       "         [ 0.04514224, -0.3245637 , -0.18558994, ..., -0.15828153,\n",
       "          -0.08757351,  0.01658031],\n",
       "         [-0.02783131, -0.35155678, -0.20163992, ..., -0.15443051,\n",
       "          -0.11263376,  0.05099101],\n",
       "         [-0.03329036, -0.32443106, -0.09240969, ..., -0.09645841,\n",
       "           0.1388489 ,  0.05601536]],\n",
       " \n",
       "        [[-0.30223027, -0.5468851 , -0.38858387, ..., -0.566273  ,\n",
       "           0.31462207,  0.61148447],\n",
       "         [ 0.08165848,  0.35500383,  0.75847495, ...,  0.1939865 ,\n",
       "           0.4375318 ,  0.15307696],\n",
       "         [ 0.20826975,  0.03681483,  0.21884404, ..., -0.30036265,\n",
       "           0.42666844, -0.49590847],\n",
       "         ...,\n",
       "         [ 0.04514224, -0.3245637 , -0.18558994, ..., -0.15828153,\n",
       "          -0.08757351,  0.01658031],\n",
       "         [-0.02783188, -0.35155717, -0.2016399 , ..., -0.1544306 ,\n",
       "          -0.11263383,  0.05099078],\n",
       "         [-0.03329052, -0.32443115, -0.0924091 , ..., -0.09645864,\n",
       "           0.13884877,  0.0560157 ]]], dtype=float32)>,\n",
       " <tf.Tensor: shape=(2, 10, 768), dtype=float32, numpy=\n",
       " array([[[-0.40224364, -0.49361926,  0.06752114, ..., -0.24373236,\n",
       "           0.32292843,  0.7427836 ],\n",
       "         [-0.22138911,  0.2824371 ,  0.52760273, ..., -0.31499612,\n",
       "           0.5931168 ,  0.2462172 ],\n",
       "         [-0.2487969 , -0.2518592 ,  0.15378559, ..., -0.12130605,\n",
       "           0.20826457, -0.08385145],\n",
       "         ...,\n",
       "         [-0.45026857, -0.28101116,  0.13310379, ...,  0.17266545,\n",
       "          -0.33675054,  0.21291435],\n",
       "         [-0.5507923 , -0.33266824,  0.13461684, ...,  0.18209955,\n",
       "          -0.34506217,  0.2562551 ],\n",
       "         [-0.46164483, -0.23492016,  0.16232765, ...,  0.09928967,\n",
       "          -0.05006243,  0.24823314]],\n",
       " \n",
       "        [[-0.40224364, -0.49361926,  0.06752114, ..., -0.24373236,\n",
       "           0.32292843,  0.7427836 ],\n",
       "         [-0.22138911,  0.2824371 ,  0.52760273, ..., -0.31499612,\n",
       "           0.5931168 ,  0.2462172 ],\n",
       "         [-0.2487969 , -0.2518592 ,  0.15378559, ..., -0.12130605,\n",
       "           0.20826457, -0.08385145],\n",
       "         ...,\n",
       "         [-0.45026857, -0.28101116,  0.13310379, ...,  0.17266545,\n",
       "          -0.33675054,  0.21291435],\n",
       "         [-0.5507932 , -0.33266857,  0.13461676, ...,  0.18209925,\n",
       "          -0.34506273,  0.25625497],\n",
       "         [-0.46164474, -0.23491997,  0.16232827, ...,  0.09928946,\n",
       "          -0.05006241,  0.24823305]]], dtype=float32)>,\n",
       " <tf.Tensor: shape=(2, 10, 768), dtype=float32, numpy=\n",
       " array([[[-0.16980135, -0.16616774,  0.02564099, ..., -0.12552133,\n",
       "           0.17291942,  0.4330536 ],\n",
       "         [-0.42125538,  0.17608328,  0.49991077, ..., -0.1428831 ,\n",
       "           0.6527468 ,  0.4612236 ],\n",
       "         [-0.21821067, -0.22477578,  0.40346316, ...,  0.08059662,\n",
       "           0.19904637,  0.00151423],\n",
       "         ...,\n",
       "         [-0.16411218, -0.30850208,  0.1660112 , ...,  0.22800869,\n",
       "          -0.07948929,  0.25606138],\n",
       "         [-0.21185686, -0.31004387,  0.15777205, ...,  0.23552594,\n",
       "          -0.05401385,  0.2552799 ],\n",
       "         [-0.24953173, -0.25728527,  0.18696974, ...,  0.15722668,\n",
       "           0.03211151,  0.30800217]],\n",
       " \n",
       "        [[-0.16980135, -0.16616774,  0.02564099, ..., -0.12552133,\n",
       "           0.17291942,  0.4330536 ],\n",
       "         [-0.42125538,  0.17608328,  0.49991077, ..., -0.1428831 ,\n",
       "           0.6527468 ,  0.4612236 ],\n",
       "         [-0.21821067, -0.22477578,  0.40346316, ...,  0.08059662,\n",
       "           0.19904637,  0.00151423],\n",
       "         ...,\n",
       "         [-0.16411218, -0.30850208,  0.1660112 , ...,  0.22800869,\n",
       "          -0.07948929,  0.25606138],\n",
       "         [-0.21185705, -0.31004405,  0.15777211, ...,  0.23552573,\n",
       "          -0.05401396,  0.25527972],\n",
       "         [-0.24953145, -0.2572849 ,  0.18697011, ...,  0.15722644,\n",
       "           0.03211166,  0.30800214]]], dtype=float32)>)"
      ]
     },
     "execution_count": 12,
     "metadata": {},
     "output_type": "execute_result"
    }
   ],
   "source": [
    "hidden_states"
   ]
  },
  {
   "cell_type": "code",
   "execution_count": 13,
   "id": "ec180d21",
   "metadata": {},
   "outputs": [
    {
     "data": {
      "text/plain": [
       "3"
      ]
     },
     "execution_count": 13,
     "metadata": {},
     "output_type": "execute_result"
    }
   ],
   "source": [
    "len(hidden_states)"
   ]
  },
  {
   "cell_type": "code",
   "execution_count": 14,
   "id": "63d150f4",
   "metadata": {},
   "outputs": [],
   "source": [
    "hidden_states_tf = tf.convert_to_tensor(hidden_states)"
   ]
  },
  {
   "cell_type": "code",
   "execution_count": 15,
   "id": "b0cf55bb",
   "metadata": {},
   "outputs": [
    {
     "data": {
      "text/plain": [
       "TensorShape([3, 2, 10, 768])"
      ]
     },
     "execution_count": 15,
     "metadata": {},
     "output_type": "execute_result"
    }
   ],
   "source": [
    "hidden_states_tf.shape"
   ]
  },
  {
   "cell_type": "code",
   "execution_count": 16,
   "id": "750a3aac",
   "metadata": {},
   "outputs": [],
   "source": [
    "# USE ONLY CLS START"
   ]
  },
  {
   "cell_type": "code",
   "execution_count": 17,
   "id": "d128c921",
   "metadata": {},
   "outputs": [],
   "source": [
    "cls_emb = hidden_states_tf[:,:,0,:] # Get 0th token i.e. [CLS] embedding"
   ]
  },
  {
   "cell_type": "code",
   "execution_count": 18,
   "id": "6f993404",
   "metadata": {},
   "outputs": [
    {
     "data": {
      "text/plain": [
       "TensorShape([3, 2, 768])"
      ]
     },
     "execution_count": 18,
     "metadata": {},
     "output_type": "execute_result"
    }
   ],
   "source": [
    "cls_emb.shape"
   ]
  },
  {
   "cell_type": "code",
   "execution_count": 19,
   "id": "d72081e0",
   "metadata": {},
   "outputs": [
    {
     "data": {
      "text/plain": [
       "<tf.Tensor: shape=(2, 768), dtype=float32, numpy=\n",
       "array([[-0.30223027, -0.5468851 , -0.38858387, ..., -0.566273  ,\n",
       "         0.31462207,  0.61148447],\n",
       "       [-0.30223027, -0.5468851 , -0.38858387, ..., -0.566273  ,\n",
       "         0.31462207,  0.61148447]], dtype=float32)>"
      ]
     },
     "execution_count": 19,
     "metadata": {},
     "output_type": "execute_result"
    }
   ],
   "source": [
    "cls_emb[0]"
   ]
  },
  {
   "cell_type": "code",
   "execution_count": 20,
   "id": "b5ae825a",
   "metadata": {},
   "outputs": [],
   "source": [
    "doc2vec = tf.math.reduce_mean(cls_emb, axis=0) # compute mean of embeddings of all hidden states"
   ]
  },
  {
   "cell_type": "code",
   "execution_count": 21,
   "id": "61082e20",
   "metadata": {},
   "outputs": [
    {
     "data": {
      "text/plain": [
       "TensorShape([2, 768])"
      ]
     },
     "execution_count": 21,
     "metadata": {},
     "output_type": "execute_result"
    }
   ],
   "source": [
    "doc2vec.shape"
   ]
  },
  {
   "cell_type": "code",
   "execution_count": 22,
   "id": "dc7eb550",
   "metadata": {},
   "outputs": [
    {
     "data": {
      "text/plain": [
       "<tf.Tensor: shape=(2, 768), dtype=float32, numpy=\n",
       "array([[-0.29142508, -0.40222403, -0.09847391, ..., -0.3118422 ,\n",
       "         0.27015662,  0.5957739 ],\n",
       "       [-0.29142508, -0.40222403, -0.09847391, ..., -0.3118422 ,\n",
       "         0.27015662,  0.5957739 ]], dtype=float32)>"
      ]
     },
     "execution_count": 22,
     "metadata": {},
     "output_type": "execute_result"
    }
   ],
   "source": [
    "doc2vec"
   ]
  },
  {
   "cell_type": "code",
   "execution_count": 23,
   "id": "192cd31d",
   "metadata": {},
   "outputs": [],
   "source": [
    "# USE ONLY CLS END"
   ]
  },
  {
   "cell_type": "code",
   "execution_count": 24,
   "id": "98288ef4",
   "metadata": {},
   "outputs": [],
   "source": [
    "# USE ALL TOKENS START"
   ]
  },
  {
   "cell_type": "code",
   "execution_count": 25,
   "id": "99d35be8",
   "metadata": {},
   "outputs": [],
   "source": [
    "# considering all the token embeddings except [CLS] and computing mean of token embeddings for selected hidden states\n",
    "hidden_states_doc2vec = tf.map_fn(lambda x: tf.math.reduce_mean(x[:,1:,:], axis=1), hidden_states_tf)"
   ]
  },
  {
   "cell_type": "code",
   "execution_count": 26,
   "id": "f29de005",
   "metadata": {},
   "outputs": [
    {
     "data": {
      "text/plain": [
       "TensorShape([3, 2, 768])"
      ]
     },
     "execution_count": 26,
     "metadata": {},
     "output_type": "execute_result"
    }
   ],
   "source": [
    "hidden_states_doc2vec.shape"
   ]
  },
  {
   "cell_type": "code",
   "execution_count": 27,
   "id": "faca9b86",
   "metadata": {},
   "outputs": [],
   "source": [
    "# computing mean of embeddings of all hidden states\n",
    "doc2vec = tf.math.reduce_mean(hidden_states_doc2vec, axis=0)"
   ]
  },
  {
   "cell_type": "code",
   "execution_count": 28,
   "id": "4ca18bdb",
   "metadata": {},
   "outputs": [
    {
     "data": {
      "text/plain": [
       "TensorShape([2, 768])"
      ]
     },
     "execution_count": 28,
     "metadata": {},
     "output_type": "execute_result"
    }
   ],
   "source": [
    "doc2vec.shape"
   ]
  },
  {
   "cell_type": "code",
   "execution_count": 29,
   "id": "6838a81e",
   "metadata": {},
   "outputs": [
    {
     "data": {
      "text/plain": [
       "array([[-0.1435384 , -0.15883817,  0.12035283, ...,  0.02115129,\n",
       "         0.00880054,  0.10272264],\n",
       "       [-0.14353843, -0.15883818,  0.12035289, ...,  0.02115124,\n",
       "         0.00880051,  0.10272262]], dtype=float32)"
      ]
     },
     "execution_count": 29,
     "metadata": {},
     "output_type": "execute_result"
    }
   ],
   "source": [
    "doc2vec.numpy()"
   ]
  },
  {
   "cell_type": "code",
   "execution_count": 30,
   "id": "e76604c3",
   "metadata": {},
   "outputs": [],
   "source": [
    "# USE ALL TOKENS END"
   ]
  },
  {
   "cell_type": "code",
   "execution_count": 31,
   "id": "c241572f",
   "metadata": {},
   "outputs": [],
   "source": [
    "class DistilBertDoc2Vec:\n",
    "    '''\n",
    "    Returns Doc2Vec embeddings of documents in a corpus.\n",
    "    \n",
    "    Params:\n",
    "    n_hidden_states: int\n",
    "     Number of hidden states of DistilBERT to consider to compute Doc2Vec\n",
    "    \n",
    "    n_tokens: int\n",
    "     Max tokens in a document\n",
    "     \n",
    "    use_only_cls_token: bool\n",
    "     Boolean specifying to use only [CLS] token embedding or compute mean of all the tokens\n",
    "     \n",
    "    return_tf_tensor: bool\n",
    "     Boolean specifying if Doc2Vec embeddings must be returned as tf tensor or numpy array.\n",
    "    '''\n",
    "    def __init__(self, n_hidden_states: int=6, n_tokens: int=512, use_only_cls_token: bool=False,\n",
    "                return_tf_tensor: bool=True):\n",
    "        self.n_hidden_states = n_hidden_states\n",
    "        self.n_tokens = n_tokens\n",
    "        self.use_only_cls_token = use_only_cls_token\n",
    "        self.return_tf_tensor = return_tf_tensor\n",
    "        self.checkpoint = 'distilbert-base-uncased'\n",
    "    \n",
    "    @staticmethod\n",
    "    def __get_valid_input(value: int, bounds: list[int]):\n",
    "        '''\n",
    "        Forces the value to be within the bounds.\n",
    "        \n",
    "        Params:\n",
    "        value: int\n",
    "         Value to be checked for validity.\n",
    "         \n",
    "        bounds: list[int]\n",
    "         Bounds within which the value must be present\n",
    "        '''\n",
    "        value = bounds[1] if value > bounds[1] else value\n",
    "        value = bounds[0] if value < bounds[0] else value\n",
    "        return value\n",
    "    \n",
    "    def __get_tokens(self, corpus: list[str]):\n",
    "        '''\n",
    "        Tokenize the corpus.\n",
    "        '''\n",
    "        tokenizer = DistilBertTokenizerFast.from_pretrained(self.checkpoint)\n",
    "        tokens = tokenizer(corpus, \n",
    "                           max_length=self.n_tokens, \n",
    "                           padding=\"max_length\", \n",
    "                           truncation=True, \n",
    "                           return_attention_mask=True, \n",
    "                           return_tensors='tf')\n",
    "        return tokens\n",
    "    \n",
    "    \n",
    "    def __get_model_embeddings(self, corpus: list[str]):\n",
    "        '''\n",
    "        Return embeddings of the corpus\n",
    "        '''\n",
    "        model = TFDistilBertModel.from_pretrained(self.checkpoint, output_hidden_states=True)\n",
    "        tokens = self.__get_tokens(corpus)\n",
    "        model_embeddings = model(input_ids=tokens['input_ids'], attention_mask=tokens['attention_mask'])\n",
    "        return model_embeddings\n",
    "        \n",
    "    def get_doc2vec(self, corpus: list[str]):\n",
    "        '''\n",
    "        Get Doc2Vec embeddings for the corpus.\n",
    "        \n",
    "        Params:\n",
    "        corpus: list[str]\n",
    "         List of documents.\n",
    "         \n",
    "        Returns:\n",
    "        doc2vec\n",
    "         Doc2Vec embeddings of the corpus\n",
    "        '''\n",
    "        n_hidden_states = self.__get_valid_input(self.n_hidden_states, [1,6])\n",
    "        n_tokens = self.__get_valid_input(self.n_tokens, [1,512])\n",
    "        model_embeddings = self.__get_model_embeddings(corpus)\n",
    "        hidden_states = model_embeddings[1][-n_hidden_states:]\n",
    "        hidden_states_tf = tf.convert_to_tensor(hidden_states)\n",
    "        if self.use_only_cls_token:\n",
    "            hidden_states_doc2vec = hidden_states_tf[:,:,0,:]\n",
    "        else:\n",
    "            hidden_states_doc2vec = tf.map_fn(lambda x: tf.math.reduce_mean(x[:,1:,:], axis=1), hidden_states_tf)\n",
    "        \n",
    "        doc2vec = tf.math.reduce_mean(hidden_states_doc2vec, axis=0)\n",
    "        \n",
    "        if self.return_tf_tensor:\n",
    "            return doc2vec\n",
    "        \n",
    "        return doc2vec.numpy()"
   ]
  },
  {
   "cell_type": "code",
   "execution_count": 32,
   "id": "e2699e62",
   "metadata": {},
   "outputs": [
    {
     "data": {
      "text/plain": [
       "<tf.Tensor: shape=(2, 768), dtype=float32, numpy=\n",
       "array([[-0.17648351, -0.12502472,  0.3354447 , ..., -0.08912349,\n",
       "        -0.11272036, -0.01180212],\n",
       "       [-0.17648351, -0.12502472,  0.3354447 , ..., -0.08912349,\n",
       "        -0.11272036, -0.01180212]], dtype=float32)>"
      ]
     },
     "execution_count": 32,
     "metadata": {},
     "output_type": "execute_result"
    }
   ],
   "source": [
    "dbw2v = DistilBertDoc2Vec(use_only_cls_token=False)\n",
    "dbw2v.get_doc2vec(s)"
   ]
  },
  {
   "cell_type": "code",
   "execution_count": 33,
   "id": "143e66a5",
   "metadata": {},
   "outputs": [
    {
     "data": {
      "text/plain": [
       "<tf.Tensor: shape=(2, 768), dtype=float32, numpy=\n",
       "array([[-0.14095749, -0.34704125,  0.01186716, ..., -0.2896978 ,\n",
       "         0.23704112,  0.35186458],\n",
       "       [-0.14095749, -0.34704125,  0.01186716, ..., -0.2896978 ,\n",
       "         0.23704112,  0.35186458]], dtype=float32)>"
      ]
     },
     "execution_count": 33,
     "metadata": {},
     "output_type": "execute_result"
    }
   ],
   "source": [
    "dbw2v = DistilBertDoc2Vec(use_only_cls_token=True)\n",
    "dbw2v.get_doc2vec(s)"
   ]
  },
  {
   "cell_type": "code",
   "execution_count": 34,
   "id": "3cd27c6d",
   "metadata": {},
   "outputs": [
    {
     "data": {
      "text/plain": [
       "<tf.Tensor: shape=(2, 768), dtype=float32, numpy=\n",
       "array([[-0.16980127, -0.16616768,  0.02564128, ..., -0.12552126,\n",
       "         0.17291929,  0.43305337],\n",
       "       [-0.16980127, -0.16616768,  0.02564128, ..., -0.12552126,\n",
       "         0.17291929,  0.43305337]], dtype=float32)>"
      ]
     },
     "execution_count": 34,
     "metadata": {},
     "output_type": "execute_result"
    }
   ],
   "source": [
    "dbw2v = DistilBertDoc2Vec(use_only_cls_token=True, n_hidden_states=0)\n",
    "dbw2v.get_doc2vec(s)"
   ]
  },
  {
   "cell_type": "code",
   "execution_count": 35,
   "id": "c4c79bf6",
   "metadata": {},
   "outputs": [
    {
     "data": {
      "text/plain": [
       "<tf.Tensor: shape=(2, 768), dtype=float32, numpy=\n",
       "array([[-0.16980127, -0.16616768,  0.02564128, ..., -0.12552126,\n",
       "         0.17291929,  0.43305337],\n",
       "       [-0.16980127, -0.16616768,  0.02564128, ..., -0.12552126,\n",
       "         0.17291929,  0.43305337]], dtype=float32)>"
      ]
     },
     "execution_count": 35,
     "metadata": {},
     "output_type": "execute_result"
    }
   ],
   "source": [
    "dbw2v = DistilBertDoc2Vec(use_only_cls_token=True, n_hidden_states=1)\n",
    "dbw2v.get_doc2vec(s)"
   ]
  },
  {
   "cell_type": "code",
   "execution_count": 36,
   "id": "1159cbee",
   "metadata": {},
   "outputs": [
    {
     "data": {
      "text/plain": [
       "<tf.Tensor: shape=(2, 768), dtype=float32, numpy=\n",
       "array([[-0.14095749, -0.34704125,  0.01186716, ..., -0.2896978 ,\n",
       "         0.23704112,  0.35186458],\n",
       "       [-0.14095749, -0.34704125,  0.01186716, ..., -0.2896978 ,\n",
       "         0.23704112,  0.35186458]], dtype=float32)>"
      ]
     },
     "execution_count": 36,
     "metadata": {},
     "output_type": "execute_result"
    }
   ],
   "source": [
    "dbw2v = DistilBertDoc2Vec(use_only_cls_token=True, n_hidden_states=100)\n",
    "dbw2v.get_doc2vec(s)"
   ]
  },
  {
   "cell_type": "code",
   "execution_count": 37,
   "id": "7c4b7afc",
   "metadata": {},
   "outputs": [
    {
     "data": {
      "text/plain": [
       "<tf.Tensor: shape=(2, 768), dtype=float32, numpy=\n",
       "array([[-0.14095749, -0.34704125,  0.01186716, ..., -0.2896978 ,\n",
       "         0.23704112,  0.35186458],\n",
       "       [-0.14095749, -0.34704125,  0.01186716, ..., -0.2896978 ,\n",
       "         0.23704112,  0.35186458]], dtype=float32)>"
      ]
     },
     "execution_count": 37,
     "metadata": {},
     "output_type": "execute_result"
    }
   ],
   "source": [
    "dbw2v = DistilBertDoc2Vec(use_only_cls_token=True, n_hidden_states=6)\n",
    "dbw2v.get_doc2vec(s)"
   ]
  },
  {
   "cell_type": "code",
   "execution_count": null,
   "id": "3317d1c8",
   "metadata": {},
   "outputs": [],
   "source": []
  }
 ],
 "metadata": {
  "kernelspec": {
   "display_name": "Python 3 (ipykernel)",
   "language": "python",
   "name": "python3"
  },
  "language_info": {
   "codemirror_mode": {
    "name": "ipython",
    "version": 3
   },
   "file_extension": ".py",
   "mimetype": "text/x-python",
   "name": "python",
   "nbconvert_exporter": "python",
   "pygments_lexer": "ipython3",
   "version": "3.11.4"
  }
 },
 "nbformat": 4,
 "nbformat_minor": 5
}
